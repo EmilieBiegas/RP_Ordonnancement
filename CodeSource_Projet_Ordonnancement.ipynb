{
 "cells": [
  {
   "cell_type": "markdown",
   "metadata": {},
   "source": [
    "# Projet de RP"
   ]
  },
  {
   "cell_type": "raw",
   "metadata": {},
   "source": [
    "ROSE Bruce (3700694) & BIEGAS Emilie (3700036)"
   ]
  },
  {
   "cell_type": "markdown",
   "metadata": {},
   "source": [
    "## Partie A"
   ]
  },
  {
   "cell_type": "markdown",
   "metadata": {},
   "source": [
    "On considère les tâches sous forme de liste de durée ou de prédiction de durée. Par exemple, la liste [1, 1, 2] signifie que l'on doit ordonnancer 3 tâches de durées (ou prédictions de durées) respectives 1, 1, et 2.\n",
    "On appelera coût d'un ordonnancement la somme totale des dates de fin d’exécution (dates de complétudes) de toutes\n",
    "les tâches."
   ]
  },
  {
   "cell_type": "markdown",
   "metadata": {},
   "source": [
    "### PREDICTION "
   ]
  },
  {
   "cell_type": "markdown",
   "metadata": {},
   "source": [
    "#### Implémentation"
   ]
  },
  {
   "cell_type": "code",
   "execution_count": 1,
   "metadata": {},
   "outputs": [],
   "source": [
    "def cumsum(liste):\n",
    "    \"\"\" Calcule la somme cumulée d'une liste (afin de calculer le coût d'un ordonnancement)\n",
    "    Parametres : liste une liste de durées de tâches\n",
    "    Retour : la somme cumulée de cette liste\n",
    "    \"\"\"\n",
    "    temp = 0\n",
    "    res = 0\n",
    "    #n = 0\n",
    "    for i in liste:\n",
    "        temp += i\n",
    "        #n+=1\n",
    "        #print(\"Tache \", n, \"  dates de fin d’exécution :\", temp)\n",
    "        res = res + temp\n",
    "        \n",
    "    return res"
   ]
  },
  {
   "cell_type": "code",
   "execution_count": 2,
   "metadata": {},
   "outputs": [
    {
     "name": "stdout",
     "output_type": "stream",
     "text": [
      "cumsum([2, 4, 5]) : \n",
      "19\n"
     ]
    }
   ],
   "source": [
    "# Tests\n",
    "print(\"cumsum([2, 4, 5]) : \")\n",
    "print(cumsum([2, 4, 5]))      # On a bien 2 + (2+4) + (2+4+5) = 2 + 6 + 11 = 19"
   ]
  },
  {
   "cell_type": "code",
   "execution_count": 3,
   "metadata": {},
   "outputs": [],
   "source": [
    "def indTri(liste):\n",
    "    \"\"\" Calcule les indices des tâches triées de la plus petite à la plus longue selon la prédiction de leurs durées\n",
    "    Parametres : liste une liste de durées prédites de tâches\n",
    "    Retour : les indices des tâches triées de la plus petite à la plus longue selon la prédiction de leurs durées\n",
    "    \"\"\"\n",
    "    indRes = [i for i in range(len(liste))]\n",
    "    indRes.sort(key=lambda x: liste[x])\n",
    "    \n",
    "    # Autre possibilité :\n",
    "    # triee = sorted(liste)\n",
    "    # indRes = [] # La liste résultat d'indice\n",
    "    \n",
    "    # elem = 0\n",
    "    # while elem < len(triee):\n",
    "    #     # indElem est la liste des indices (dans liste) des tâches de longueur triee[elem]\n",
    "    #     indElem = [idx for idx, e in enumerate(liste) if e == triee[elem]]\n",
    "    #     indRes += indElem # On ajoute ces indices aux indices \"triés\"\n",
    "    #     elem += len(indElem) # On passe tous les éléments de triee avec la même valeur\n",
    "    \n",
    "    return indRes\n"
   ]
  },
  {
   "cell_type": "code",
   "execution_count": 4,
   "metadata": {},
   "outputs": [
    {
     "name": "stdout",
     "output_type": "stream",
     "text": [
      "indTri([5, 2, 4]) : \n",
      "[1, 2, 0]\n",
      "\n",
      "indTri([3, 5, 2, 2, 4, 2]) : \n",
      "[2, 3, 6, 0, 4, 5, 1]\n"
     ]
    }
   ],
   "source": [
    "# Tests\n",
    "print(\"indTri([5, 2, 4]) : \")\n",
    "print(indTri([5, 2, 4]))     \n",
    "\n",
    "# On a bien [1, 2, 0] car l'élément le plus faible est en position 1, \n",
    "# puis le second plus faible en position 2 et enfin le plus grand en position 0.\n",
    "\n",
    "\n",
    "print(\"\\nindTri([3, 5, 2, 2, 4, 2]) : \")\n",
    "print(indTri([3, 5, 2, 2, 3, 4, 2]))     \n",
    "\n",
    "# On a bien [{2, 3, 6}, {0, 4}, 5, 1] car l'élément le plus faible est en position 2, 3, et 6, \n",
    "# puis le second plus faible en position 0 et 4, le second plus grand en position 5 et enfin le plus grand en position 1."
   ]
  },
  {
   "cell_type": "code",
   "execution_count": 5,
   "metadata": {},
   "outputs": [],
   "source": [
    "def prediction(pred, vrai, l=[]):\n",
    "    \"\"\" Implémentation de l'algorithme PREDICTION\n",
    "    Parametres : pred une liste de prédictions de durées de tâches, vrai une liste de vraies durées de tâches et optionnellement\n",
    "    l qui contiendra après l'éxecution du programme les temps de fins de chaque tâche \n",
    "    Retour : l'ordonnancement des tâches de la plus petite à la plus longue en tenant compte de la prédiction de leurs durées \n",
    "    ainsi que le coût associé\n",
    "    \"\"\"\n",
    "    \n",
    "    indTrie = indTri(pred)\n",
    "    \n",
    "    # L'ordonnancement des tâches est la suivante :\n",
    "    ordo = [vrai[i] for i in indTrie]\n",
    "    \n",
    "    # On récupère dans l la date de fin de chacune des tâches\n",
    "    if l != []:\n",
    "        temp = 0\n",
    "        for i in range(len(indTrie)):\n",
    "            temp += ordo[i]\n",
    "            l[indTrie[i]] = temp\n",
    "    \n",
    "    return (ordo, cumsum(ordo))"
   ]
  },
  {
   "cell_type": "markdown",
   "metadata": {},
   "source": [
    "#### Tests commentés"
   ]
  },
  {
   "cell_type": "code",
   "execution_count": 6,
   "metadata": {},
   "outputs": [
    {
     "name": "stdout",
     "output_type": "stream",
     "text": [
      "prediction([5, 2, 4], [5, 2, 4]) : \n",
      "([2, 4, 5], 19)\n",
      "\n",
      "prediction([3, 2, 4], [5, 2, 4], l=dateFin) : \n",
      "([2, 5, 4], 20)\n",
      "Les dates de fins de tâches sont :  [7, 2, 11]\n"
     ]
    }
   ],
   "source": [
    "# Tests\n",
    "# En supposant que la prédiction est exacte\n",
    "print(\"prediction([5, 2, 4], [5, 2, 4]) : \")\n",
    "print(prediction([5, 2, 4], [5, 2, 4]))      # On a bien le résultat voulu (voir plus haut)\n",
    "\n",
    "dateFin = [0, 0, 0]\n",
    "# En supposant que la prédiction est erronée\n",
    "print(\"\\nprediction([3, 2, 4], [5, 2, 4], l=dateFin) : \")\n",
    "print(prediction([3, 2, 4], [5, 2, 4], l=dateFin))       # On a bien 2 + (2+5) + (2+5+4) = 2 + 7 + 11 = 20\n",
    "print(\"Les dates de fins de tâches sont : \", dateFin)    # On a bien récupéré les dates de fin de tâches "
   ]
  },
  {
   "cell_type": "markdown",
   "metadata": {},
   "source": [
    "### SPT "
   ]
  },
  {
   "cell_type": "markdown",
   "metadata": {},
   "source": [
    "#### Implémentation"
   ]
  },
  {
   "cell_type": "code",
   "execution_count": 7,
   "metadata": {},
   "outputs": [],
   "source": [
    "def spt(vrai):\n",
    "    \"\"\" Implémentation de l'algorithme SPT\n",
    "    Parametres : vrai une liste de vraies durées de tâches\n",
    "    Retour :  l'ordonnancement des tâches de la plus petite à la plus longue en tenant compte de leurs vraies durées ainsi que \n",
    "    le coût associé\n",
    "    \"\"\"\n",
    "    \n",
    "    # L'ordonnancement des tâches est la suivante :\n",
    "    ordo = sorted(vrai)\n",
    "    \n",
    "    return (ordo, cumsum(ordo))\n",
    "\n",
    "# On aurait simplement pu appeler prediction(vrai, vrai)"
   ]
  },
  {
   "cell_type": "markdown",
   "metadata": {},
   "source": [
    "#### Tests"
   ]
  },
  {
   "cell_type": "code",
   "execution_count": 8,
   "metadata": {},
   "outputs": [
    {
     "name": "stdout",
     "output_type": "stream",
     "text": [
      "spt([5, 2, 4]) : \n",
      "([2, 4, 5], 19)\n"
     ]
    }
   ],
   "source": [
    "# Tests\n",
    "print(\"spt([5, 2, 4]) : \")\n",
    "print(spt([5, 2, 4]))     # On a bien le résultat voulu (voir plus haut)"
   ]
  },
  {
   "cell_type": "markdown",
   "metadata": {},
   "source": [
    "### ROUND-ROBIN "
   ]
  },
  {
   "cell_type": "markdown",
   "metadata": {},
   "source": [
    "#### Implémentation"
   ]
  },
  {
   "cell_type": "code",
   "execution_count": 9,
   "metadata": {},
   "outputs": [],
   "source": [
    "def round_robin(incon, l=[]):\n",
    "    \"\"\" Implémentation de l'algorithme ROUND-ROBIN\n",
    "    Parametres : incon une liste de vraies durées de tâches (qui nous est inconnue) et optionnellement l qui contiendra après \n",
    "    l'éxecution du programme les temps de fins de chaque tâche \n",
    "    Retour : le coût de l'ordonnancement avec une politique ROUND-ROBIN\n",
    "    \"\"\"\n",
    "    \n",
    "    restVrai = incon.copy() # La liste de durées restantes à executer pour chaque tâche\n",
    "    \n",
    "    # Les indices des tâches actives (c'est-à-dire celles qui n'ont pas fini de s'exécuter)\n",
    "    indActiv = [i for i in range(len(incon))] \n",
    "    \n",
    "    cout = 0\n",
    "    temp = 0\n",
    "\n",
    "    while sum(restVrai) > 0:\n",
    "        # On exécute toutes les tâches actives en même temps jusqu'à ce qu'une d'elle se termine \n",
    "        if len(indActiv) > 0: # Normalement toujours vrai puisque sum(restVrai)>0 si on est là\n",
    "            # On cherche la tâche la plus courte\n",
    "            ind = indActiv[0]\n",
    "            mini = restVrai[ind]\n",
    "            for e in indActiv:\n",
    "                if restVrai[e] < mini:\n",
    "                    ind = e\n",
    "                    mini = restVrai[e]\n",
    "                   \n",
    "            # On avance le temps jusqu'à ce que la tâche la plus courte termine\n",
    "            temp += restVrai[ind]*len(indActiv)\n",
    "            cout += temp\n",
    "            #print(\"Tache d'indice \", ind, \" fini à la date \", temp)\n",
    "            # On récupère dans l la date de fin de la tâche\n",
    "            if l != []:\n",
    "                l[ind] = temp\n",
    "            \n",
    "            \n",
    "            # On enlève le temps passé aux tâches actives\n",
    "            uniteAchevee = restVrai[ind]\n",
    "            for i in indActiv:\n",
    "                restVrai[i] -= uniteAchevee\n",
    "\n",
    "            # La tâche n'est plus active\n",
    "            indActiv.remove(ind)\n",
    "            \n",
    "    return cout   "
   ]
  },
  {
   "cell_type": "markdown",
   "metadata": {},
   "source": [
    "#### Tests commentés"
   ]
  },
  {
   "cell_type": "code",
   "execution_count": 10,
   "metadata": {},
   "outputs": [
    {
     "name": "stdout",
     "output_type": "stream",
     "text": [
      "round_robin([5, 2, 4], l=dateFin) : \n",
      "27\n",
      "Les dates de fins de tâches sont :  [11, 6, 10]\n"
     ]
    }
   ],
   "source": [
    "# Tests\n",
    "dateFin = [0, 0, 0]\n",
    "\n",
    "print(\"round_robin([5, 2, 4], l=dateFin) : \")\n",
    "print(round_robin([5, 2, 4], l=dateFin))      \n",
    "# On a bien la tâche de longueur 2 qui se termine au temps 6 (puisqu'on exécute les 3 tâches en même temps)\n",
    "# Au temps 6, il reste donc deux tâches nécessitant encore 2 et 3 temps d'exécution.\n",
    "# La tâche de longueur 4 se termine au temps 6+4 = 10 (puisqu'on exécute les 2 tâches en même temps), \n",
    "# et celle de longueur 5 qui se termine au temps 10+1 = 11 soit un coût total de 6+10+11=27.\n",
    "\n",
    "print(\"Les dates de fins de tâches sont : \", dateFin)    # On a bien récupéré les dates de fin de tâches"
   ]
  },
  {
   "cell_type": "markdown",
   "metadata": {},
   "source": [
    "### PRED-ROUND-ROBIN  "
   ]
  },
  {
   "cell_type": "markdown",
   "metadata": {},
   "source": [
    "#### Implémentation"
   ]
  },
  {
   "cell_type": "code",
   "execution_count": 11,
   "metadata": {},
   "outputs": [],
   "source": [
    "def pred_round_robin(pred, vrai, lamb):\n",
    "    \"\"\" Implémentation de l'algorithme PRED-ROUND-ROBIN\n",
    "    Parametres : pred la liste de prédictions de durées de tâches, vrai la liste de vraies durées de tâches (inconnue avant \n",
    "    l'exécution de ces dernières) et lamb le lambda déterminant la vitesse de l'algorithme ROUND-ROBIN\n",
    "    Retour : le coût de l'ordonnancement avec une politique PRED-ROUND-ROBIN\n",
    "    \"\"\"\n",
    "    dateFinPred = [0 for i in range(len(vrai))]\n",
    "    dateFinRR = [0 for i in range(len(vrai))]\n",
    "    \n",
    "    prediction(pred, vrai, l=dateFinPred)\n",
    "    round_robin(vrai, l=dateFinRR)\n",
    "    \n",
    "    # Les dates de fin de tâches ont donc été mises à jour et il ne nous reste plus qu'à prendre le minimum\n",
    "    dateFinPRR = [min(dateFinPred[i]/(1-lamb), dateFinRR[i]/lamb)  for i in range(len(vrai))]\n",
    "    \n",
    "    return sum(dateFinPRR)"
   ]
  },
  {
   "cell_type": "markdown",
   "metadata": {},
   "source": [
    "#### Tests commentés"
   ]
  },
  {
   "cell_type": "code",
   "execution_count": 12,
   "metadata": {},
   "outputs": [
    {
     "name": "stdout",
     "output_type": "stream",
     "text": [
      "pred_round_robin([5, 2, 4], [5, 2, 4], 1/2) : \n",
      "38.0\n",
      "\n",
      "pred_round_robin([3, 2, 4], [5, 2, 4], 1/2) : \n",
      "38.0\n"
     ]
    }
   ],
   "source": [
    "# Tests\n",
    "# On suppose que la prédiction est exacte pour cet exemple :\n",
    "print(\"pred_round_robin([5, 2, 4], [5, 2, 4], 1/2) : \")\n",
    "print(pred_round_robin([5, 2, 4], [5, 2, 4], 1/2)) \n",
    "\n",
    "# On a bien les dates finales [22.0, 4.0, 12.0] puisque pour la tâche de durée 5, on a dû faire Min(22.0  ;  22.0) = 22.0,\n",
    "# pour la tâche de durée 2, on a dû faire Min(4.0  ;  12.0) = 4.0 et pour la tâche de durée 4, on a dû faire \n",
    "# Min(12.0  ;  20.0) = 12.0 et la somme de ces dates fait bien 22 + 4 + 12 = 38.\n",
    "\n",
    "\n",
    "# On suppose que la prédiction n'est pas exacte pour cet exemple :\n",
    "print(\"\\npred_round_robin([3, 2, 4], [5, 2, 4], 1/2) : \")\n",
    "print(pred_round_robin([3, 2, 4], [5, 2, 4], 1/2)) \n",
    "\n",
    "# On a bien les dates finales [14.0, 4.0, 20.0] puisque pour la tâche de durée 5, on a dû faire Min(14.0  ;  22.0) = 14.0,\n",
    "# pour la tâche de durée 2, on a dû faire Min(4.0  ;  12.0) = 4.0 et pour la tâche de durée 4, on a dû faire \n",
    "# Min(22.0  ;  20.0) = 20.0 et la somme de ces dates fait bien 14 + 4 + 20 = 38."
   ]
  },
  {
   "cell_type": "markdown",
   "metadata": {},
   "source": [
    "#### Variante"
   ]
  },
  {
   "cell_type": "markdown",
   "metadata": {},
   "source": [
    "Nous avions, avant votre réponse à nos questions, un tout autre point de vue sur l'algorithme qui est le suivant : (Nous tenions à le laisser car nous avons travaillé sur cet algorithme et que nous le trouvons interessant et plus performant)"
   ]
  },
  {
   "cell_type": "code",
   "execution_count": 13,
   "metadata": {},
   "outputs": [],
   "source": [
    "def pred_round_robin2(pred, vrai, lamb):\n",
    "    \"\"\" Implémentation de notre version de l'algorithme PRED-ROUND-ROBIN\n",
    "    \n",
    "    Ici les deux algorithmes prediction et round-robin sont exécutés \"en même temps\" \n",
    "    avec une distribution du temps machine égal à lambda. De cette manière, dès qu'une tâche est terminée soit par \n",
    "    prediction soit par round-robin, elle est retirée des tâches actives pour les deux algorithmes.\n",
    "    \n",
    "    Parametres : pred la liste de prédictions de durées de tâches, vrai la liste de vraies durées de tâches \n",
    "    (inconnue avant l'exécution de ces dernières) et lamb le lambda déterminant la vitesse de l'algorithme \n",
    "    ROUND-ROBIN\n",
    "    Retour : le coût de l'ordonnancement avec une politique PRED-ROUND-ROBIN\n",
    "    \"\"\"\n",
    "\n",
    "    restVrai = vrai.copy() # La liste de durées restantes à executer pour chaque tâche\n",
    "    restPred = pred.copy() # La liste de durées restantes prédites à executer pour chaque tâche\n",
    "    \n",
    "    # Les indices des tâches actives (c'est-à-dire celles qui n'ont pas fini de s'exécuter)\n",
    "    indActiv = [i for i in range(len(vrai))] \n",
    "    \n",
    "    cout = 0\n",
    "    temp = 0\n",
    "\n",
    "    while sum(restVrai) > 0:\n",
    "        # On exécute toutes les tâches actives en même temps jusqu'à ce qu'une d'elle se termine\n",
    "        if len(indActiv) > 0: # Normalement toujours vrai puisque sum(restVrai)>0 si on est là\n",
    "            # indPred l'indice de la tâche traitée par prédiction et ind l'indice de la tâche la plus courte\n",
    "            indPred = indActiv[0]\n",
    "            miniPred = restPred[indPred]\n",
    "            ind = indActiv[0]\n",
    "            mini = restVrai[ind]\n",
    "            for e in indActiv:\n",
    "                if restPred[e] < miniPred:\n",
    "                    indPred = e\n",
    "                    miniPred = restPred[e]\n",
    "                if restVrai[e] < mini:\n",
    "                    ind = e\n",
    "                    mini = restVrai[e]\n",
    "                \n",
    "            # Calcul de tâche qui finira en premier(soit celle avec le min durée restante soit celle exécutée dans \n",
    "            # prediction)\n",
    "            # La tâche la plus courte, (pas celle exécutée par prédiction) finit en restVrai[ind]*len(indActiv)/lamb\n",
    "            # La tâche exécutée dans prediction finit en restVrai[indPred]/(1-lamb + lamb/len(indActiv)) \n",
    "            dateCourte = restVrai[ind]*len(indActiv)/lamb \n",
    "            datePred = restVrai[indPred]/(1-lamb + lamb/len(indActiv))\n",
    "            \n",
    "            if ind == indPred:\n",
    "                indFirst = ind\n",
    "                dateFirst = datePred\n",
    "            else:\n",
    "                if dateCourte < datePred:\n",
    "                    indFirst = ind\n",
    "                    dateFirst = dateCourte\n",
    "                else:\n",
    "                    indFirst = indPred\n",
    "                    dateFirst = datePred\n",
    "            \n",
    "            # La tâche la plus courte s'est terminée\n",
    "            temp += dateFirst\n",
    "            cout += temp\n",
    "            #print(\"Tache d'indice \", indFirst, \" fini à la date \", temp)\n",
    "\n",
    "            # On enlève le temps passé aux tâches actives\n",
    "            for i in indActiv:\n",
    "                restVrai[i] -= lamb*dateFirst/len(indActiv)\n",
    "                restPred[i] -= lamb*dateFirst/len(indActiv)\n",
    "            restVrai[indPred] -= (1-lamb)*dateFirst\n",
    "            restPred[indPred] -= (1-lamb)*dateFirst\n",
    "            restVrai[indFirst] = 0 # Afin d'éviter les erreurs d'arrondi\n",
    "\n",
    "            # La tâche n'est plus active\n",
    "            indActiv.remove(indFirst)\n",
    "            \n",
    "    return cout"
   ]
  },
  {
   "cell_type": "markdown",
   "metadata": {},
   "source": [
    "#### Tests commentés"
   ]
  },
  {
   "cell_type": "code",
   "execution_count": 14,
   "metadata": {},
   "outputs": [
    {
     "name": "stdout",
     "output_type": "stream",
     "text": [
      "pred_round_robin2([5, 2, 4], [5, 2, 4], 1/2) : \n",
      "21.666666666666668\n",
      "\n",
      "pred_round_robin2([3, 2, 4], [5, 2, 4], 1/2) : \n",
      "23.0\n",
      "\n",
      "pred_round_robin2([5, 2, 4], [5, 2, 4], 1/4) : \n",
      "20.142857142857142\n"
     ]
    }
   ],
   "source": [
    "# Tests\n",
    "# On suppose que la prédiction est exacte pour cet exemple :\n",
    "print(\"pred_round_robin2([5, 2, 4], [5, 2, 4], 1/2) : \")\n",
    "print(pred_round_robin2([5, 2, 4], [5, 2, 4], 1/2)) \n",
    "\n",
    "# On a bien la tâche de longueur 2 qui se termine au temps 3 \n",
    "# (puisqu'on exécute les 3 tâches en même temps pour ROUND-ROBIN et que cette tâche est en tête des prédictions: \n",
    "# 1/2*1/3 + 1/2 = 4/6 = 2/3 par unité de temps pour cette tâche et 3*2/3 = 2)\n",
    "\n",
    "# Au temps 3, il reste donc deux tâches nécessitant encore 4-3/6 = 3.5 et 5-3/6 = 4.5 temps d'exécution.\n",
    "\n",
    "# La tâche de longueur 4 (temps restant = 3.5) se termine au temps 4.66 + 3 = 7.66  \n",
    "# (puisqu'on exécute les 2 tâches en même temps pour ROUND-ROBIN et que cette tâche est en tête des prédictions: \n",
    "# 1/2*1/2 + 1/2 = 3/4 par unité de temps pour cette tâche et 4.66*3/4 = 3.5)\n",
    "\n",
    "# Au temps 7.66, il reste donc une tâche nécessitant encore 4.5-4.66/4 = 3.34 temps d'exécution.\n",
    "\n",
    "# La tâche de longueur 5 (temps restant = 3.34) se termine au temps 11\n",
    "# (puisqu'on l'exécute seule: 1 par unité de temps pour cette tâche)\n",
    "\n",
    "# Soit un coût total de 3 + 7.66 + 11 = 21.66.\n",
    "\n",
    "\n",
    "# On suppose que la prédiction n'est pas exacte pour cet exemple :\n",
    "print(\"\\npred_round_robin2([3, 2, 4], [5, 2, 4], 1/2) : \")\n",
    "print(pred_round_robin2([3, 2, 4], [5, 2, 4], 1/2)) \n",
    "\n",
    "# On a bien la tâche de longueur 2 qui se termine au temps 3 \n",
    "# (puisqu'on exécute les 3 tâches en même temps pour ROUND-ROBIN et que cette tâche est en tête des prédictions: \n",
    "# 1/2*1/3 + 1/2 = 4/6 = 2/3 par unité de temps pour cette tâche et 3*2/3 = 2)\n",
    "\n",
    "# Au temps 3, il reste donc deux tâches nécessitant encore 4-3/6 = 3.5 et 5-3/6 = 4.5 temps d'exécution.\n",
    "\n",
    "# La tâche de longueur 5 (temps restant = 4.5 = 9/2) se termine au temps 6+3 = 9\n",
    "# (puisqu'on exécute les 2 tâches en même temps pour ROUND-ROBIN et que cette tâche est en tête des prédictions (faussées): \n",
    "# 1/2*1/2 + 1/2 = 3/4 par unité de temps pour cette tâche et 6*3/4 = 18/4  = 9/2)\n",
    "\n",
    "# Au temps 9, il reste donc une tâche nécessitant encore 3.5-6/4 = 7/2-6/4 = 8/4 = 2 temps d'exécution.\n",
    "\n",
    "# La tâche de longueur 4 (temps restant = 2) se termine au temps 2+9 = 11\n",
    "# (puisqu'on l'exécute seule: 1 par unité de temps pour cette tâche)\n",
    "\n",
    "# Soit un coût total de 3+9+11 = 23.\n",
    "\n",
    "\n",
    "# On prend un autre lambda :\n",
    "print(\"\\npred_round_robin2([5, 2, 4], [5, 2, 4], 1/4) : \")\n",
    "print(pred_round_robin2([5, 2, 4], [5, 2, 4], 1/4)) \n",
    "\n",
    "# On a bien la tâche de longueur 2 qui se termine au temps 2.4  \n",
    "# (puisqu'on exécute les 3 tâches en même temps pour ROUND-ROBIN et que cette tâche est en tête des prédictions: \n",
    "# 1/4*1/3 + 3/4 = 10/12 = 5/6 par unité de temps pour cette tâche et 2.4*5/6 = 2)\n",
    "\n",
    "# Au temps 3, il reste donc deux tâches nécessitant encore 4-2.4/12 = 3.8 et 5-2.4/12 = 4.8 temps d'exécution.\n",
    "\n",
    "# La tâche de longueur 4 (temps restant = 3.8) se termine au temps 2.4 + 4.34 = 6.74 \n",
    "# (puisqu'on exécute les 2 tâches en même temps pour ROUND-ROBIN et que cette tâche est en tête des prédictions: \n",
    "# 1/4*1/2 + 3/4 = 7/8 par unité de temps pour cette tâche et 4.34*7/8 = 3.8)\n",
    "\n",
    "# Au temps 6.74, il reste donc une tâche nécessitant encore 4.8-4.34/8 = 4.26 temps d'exécution.\n",
    "\n",
    "# La tâche de longueur 5 (temps restant = 4.26) se termine au temps 6.74 + 4.26 = 11 \n",
    "# (puisqu'on l'exécute seule: 1 par unité de temps pour cette tâche)\n",
    "\n",
    "# Soit un coût total de 2.4 + 6.74 + 11 = 20.14."
   ]
  },
  {
   "cell_type": "markdown",
   "metadata": {},
   "source": [
    "## Partie B"
   ]
  },
  {
   "cell_type": "markdown",
   "metadata": {},
   "source": [
    "Pour adapter les algorithmes vus à la première partie dans le cas avec prédictions, il suffit de donner à chaque\n",
    "instant la priorité à la tâche dont la durée restante *prédite* (c'est à dire la durée prédite de la tâche - la durée déjà effectuée) est la plus faible."
   ]
  },
  {
   "cell_type": "markdown",
   "metadata": {},
   "source": [
    "### PREDICTION "
   ]
  },
  {
   "cell_type": "markdown",
   "metadata": {},
   "source": [
    "#### Implémentation"
   ]
  },
  {
   "cell_type": "code",
   "execution_count": 15,
   "metadata": {},
   "outputs": [],
   "source": [
    "def predictionB(pred, vrai, arr, l=[]):\n",
    "    \"\"\" Implémentation de l'algorithme PREDICTION avec des dates d'arrivées\n",
    "    Parametres : pred une liste de prédictions de durées de tâches, vrai une liste de vraies durées de tâches, arr une liste de \n",
    "    temps d'arrivée des tâches, et optionnellement l qui contiendra après l'éxecution du programme les temps de fins de chaque \n",
    "    tâche \n",
    "    Retour : le coût de l'ordonnancement prenant en compte les prédictions\n",
    "    \"\"\"\n",
    "    restVrai = vrai.copy() # La liste de durées restantes à executer pour chaque tâche\n",
    "    restPred = pred.copy() # La liste des durées restantes prédites pour chaque tâche\n",
    "    \n",
    "    # Les indices des tâches actives (càd celles qui sont déjà arrivées et qui n'ont pas fini de s'exécuter)\n",
    "    indActiv = [idx for idx, e in enumerate(arr) if e == 0] \n",
    "    \n",
    "    # Les dates d'arrivées futures\n",
    "    dateArr = set(arr)\n",
    "    \n",
    "    if len(indActiv) > 0:\n",
    "        dateArr.remove(0)\n",
    "    \n",
    "    cout = 0\n",
    "    temp = 0\n",
    "\n",
    "    while sum(restVrai) > 0:\n",
    "        # On exécute la tâche dont la durée restante PREDITE est la plus faible (parmi les tâches actives)\n",
    "        if len(indActiv) > 0:\n",
    "            # On cherche la tâche la plus courte\n",
    "            ind = indActiv[0]\n",
    "            mini = restPred[ind]\n",
    "            for e in indActiv:\n",
    "                if restPred[e] < mini:\n",
    "                    ind = e\n",
    "                    mini = restPred[e]\n",
    "                   \n",
    "            # On avance le temps jusqu'à ce qu'une nouvelle tâche arrive ou que la tâche dont on s'occupe termine\n",
    "            if len(dateArr) > 0 and min(dateArr)-temp < restVrai[ind]:\n",
    "                # Une nouvelle tâche arrive\n",
    "                # On enlève le temps passé à la tâche sélectionnée\n",
    "                restVrai[ind] -= (min(dateArr)-temp)\n",
    "                restPred[ind] -= (min(dateArr)-temp)\n",
    "                \n",
    "                # Mise à jour du temps\n",
    "                temp = min(dateArr)\n",
    "                \n",
    "                # On ajoute les tâches de date d'arrivée atteinte\n",
    "                indActiv += [idx for idx, e in enumerate(arr) if e == min(dateArr)]\n",
    "                dateArr.remove(min(dateArr))\n",
    "\n",
    "            else:\n",
    "                # La tâche en cours d'exécution s'est terminée\n",
    "                temp += restVrai[ind]\n",
    "                cout += temp\n",
    "                #print(\"Tache d'indice \", ind, \" fini à la date \", temp)\n",
    "                # On récupère dans l la date de fin de la tâche\n",
    "                if l != []:\n",
    "                    l[ind] = temp\n",
    "                    \n",
    "                # On enlève le temps passé à la tâche sélectionnée\n",
    "                restVrai[ind] = 0\n",
    "                restPred[ind] = 0\n",
    "                \n",
    "                # La tâche n'est plus active\n",
    "                indActiv.remove(ind)\n",
    "                \n",
    "                # Si il y a de nouvelles tâches, on les ajoutes\n",
    "                if len(dateArr) > 0 and min(dateArr) - temp == 0:\n",
    "                    # On ajoute les tâches de date d'arrivée atteinte\n",
    "                    indActiv += [idx for idx, e in enumerate(arr) if e == min(dateArr)]\n",
    "                    dateArr.remove(min(dateArr))\n",
    "                \n",
    "        else:\n",
    "            # Il n'y a pas de tâche active et on avance jusqu'à la prochaine arrivée de tâche\n",
    "            if len(dateArr) == 0: # Toutes les tâches sont arrivées\n",
    "                # Normalement on n'entre jamais ici car sum(restVrai) serait égal à 0\n",
    "                return cout\n",
    "            \n",
    "            # On met le temps à jour\n",
    "            temp = min(dateArr)\n",
    "            # On ajoute les tâches de date d'arrivée atteinte\n",
    "            #print(\"Il existe un temps de latence à cause de l'arrivée tardive d'une tâche\")\n",
    "            indActiv += [idx for idx, e in enumerate(arr) if e == min(dateArr)]\n",
    "            dateArr.remove(min(dateArr))\n",
    "            \n",
    "    return cout"
   ]
  },
  {
   "cell_type": "markdown",
   "metadata": {},
   "source": [
    "#### Tests commentés"
   ]
  },
  {
   "cell_type": "code",
   "execution_count": 16,
   "metadata": {},
   "outputs": [
    {
     "name": "stdout",
     "output_type": "stream",
     "text": [
      "predictionB([5, 2, 4], [5, 2, 4], [0, 1, 0]) : \n",
      "20\n",
      "\n",
      "predictionB([3, 2, 4], [5, 2, 4], [0, 1, 0]) : \n",
      "23\n",
      "\n",
      "predictionB([1, 2, 4], [1, 2, 4], [0, 0, 4], l=dateFin) : \n",
      "12\n",
      "Les dates de fins de tâches sont :  [1, 3, 8]\n"
     ]
    }
   ],
   "source": [
    "# Tests\n",
    "# En supposant que la prédiction est exacte\n",
    "print(\"predictionB([5, 2, 4], [5, 2, 4], [0, 1, 0]) : \")\n",
    "print(predictionB([5, 2, 4], [5, 2, 4], [0, 1, 0]))\n",
    "\n",
    "# En effet, du temps 0 au temps 1, on exécute la tâche de durée 4 et la tâche de durée 2 arrive, il reste donc les durées \n",
    "# [5, 2, 3]. Puis du temps 1 au temps 3 on exécute la tâche de durée 2 (coût de 3), puis on exécute la tâche de durée 4 \n",
    "# (3 restant) entre les temps 3 et 6 (coût de 6). Enfin, on exécute la tâche de durée 5 entre les temps 6 et 11 (coût de 11).\n",
    "# Soit un coût total de 3 + 6 + 11 = 20.\n",
    "\n",
    "# En supposant que la prédiction est erronée\n",
    "print(\"\\npredictionB([3, 2, 4], [5, 2, 4], [0, 1, 0]) : \")\n",
    "print(predictionB([3, 2, 4], [5, 2, 4], [0, 1, 0]))\n",
    "\n",
    "# En effet, du temps 0 au temps 1, on exécute la tâche de durée 5 et la tâche de durée 2 arrive, il reste donc les durées \n",
    "# [4, 2, 4] mais on a prédit qu'il restait les durées [2, 2, 4]. Puis du temps 1 au temps 5 on exécute encore la tâche de durée\n",
    "# 5 (coût de 5), puis on exécute la tâche de durée 2 entre les temps 5 et 7 (coût de 7). Enfin, on exécute la tâche de durée 4 \n",
    "# entre les temps 7 et 11 (coût de 11).\n",
    "# Soit un coût total de 5 + 7 + 11 = 23.\n",
    "\n",
    "dateFin = [0, 0, 0]\n",
    "# Dernier test avec un temps de latence\n",
    "print(\"\\npredictionB([1, 2, 4], [1, 2, 4], [0, 0, 4], l=dateFin) : \")\n",
    "print(predictionB([1, 2, 4], [1, 2, 4], [0, 0, 4], l=dateFin))\n",
    "\n",
    "# En effet, du temps 0 au temps 1, on exécute la tâche de durée 1 (coût de 1) puis la tâche de durée 2 (coût de 3), il reste \n",
    "# donc la tâche de durée 4 mais elle n'est pas encore arrivée.\n",
    "# On attend donc une unité de temps avant qu'elle n'arrive puis on l'exécute du temps 4 au temps 8  de durée (coût de 8)\n",
    "# Soit un coût total de 1 + 3 + 8 = 12.\n",
    "\n",
    "print(\"Les dates de fins de tâches sont : \", dateFin)    # On a bien récupéré les dates de fin de tâches"
   ]
  },
  {
   "cell_type": "markdown",
   "metadata": {},
   "source": [
    "### SPT "
   ]
  },
  {
   "cell_type": "markdown",
   "metadata": {},
   "source": [
    "#### Implémentation"
   ]
  },
  {
   "cell_type": "code",
   "execution_count": 17,
   "metadata": {},
   "outputs": [],
   "source": [
    "def sptB(vrai, arr):\n",
    "    \"\"\" Implémentation de l'algorithme SPT avec des dates d'arrivées\n",
    "    Parametres : vrai une liste de vraies durées de tâches, et arr une liste de temps d'arrivée des tâches\n",
    "    Retour :  le coût de l'ordonnancement\n",
    "    \"\"\"\n",
    "    \n",
    "    restVrai = vrai.copy() # La liste de durées restantes à executer pour chaque tâche\n",
    "    \n",
    "    # Les indices des tâches actives (càd celles qui sont déjà arrivées et qui n'ont pas fini de s'exécuter)\n",
    "    indActiv = [idx for idx, e in enumerate(arr) if e == 0] \n",
    "    \n",
    "    # Les dates d'arrivées futures\n",
    "    dateArr = set(arr) \n",
    "    \n",
    "    if len(indActiv) > 0:\n",
    "        dateArr.remove(0)\n",
    "    \n",
    "    cout = 0\n",
    "    temp = 0\n",
    "\n",
    "    while sum(restVrai) > 0:\n",
    "        # On exécute la tâche dont la durée restante est la plus faible (parmi les tâches actives)\n",
    "        if len(indActiv) > 0:\n",
    "            # On cherche la tâche la plus courte\n",
    "            ind = indActiv[0]\n",
    "            mini = restVrai[ind]\n",
    "            for e in indActiv:\n",
    "                if restVrai[e] < mini:\n",
    "                    ind = e\n",
    "                    mini = restVrai[e]\n",
    "                   \n",
    "            # On avance le temps jusqu'à ce qu'une nouvelle tâche arrive ou que la tâche dont on s'occupe termine\n",
    "            if len(dateArr) > 0 and min(dateArr)-temp < restVrai[ind]:\n",
    "                # Une nouvelle tâche arrive\n",
    "                # On enlève le temps passé à la tâche sélectionnée\n",
    "                restVrai[ind] -= (min(dateArr)-temp)\n",
    "                \n",
    "                # Mise à jour du temps\n",
    "                temp = min(dateArr)\n",
    "                \n",
    "                # On ajoute les tâches de date d'arrivée atteinte\n",
    "                indActiv += [idx for idx, e in enumerate(arr) if e == min(dateArr)]\n",
    "                dateArr.remove(min(dateArr))\n",
    "\n",
    "            else:\n",
    "                # La tâche en cours d'exécution s'est terminée\n",
    "                temp += restVrai[ind]\n",
    "                cout += temp\n",
    "                #print(\"Tache d'indice \", ind, \" fini à la date \", temp)\n",
    "                \n",
    "                # On enlève le temps passé à la tâche sélectionnée\n",
    "                restVrai[ind] = 0\n",
    "                \n",
    "                # La tâche n'est plus active\n",
    "                indActiv.remove(ind)\n",
    "                \n",
    "                # Si il y a de nouvelles tâches, on les ajoutes\n",
    "                if len(dateArr) > 0 and min(dateArr) - temp == 0:\n",
    "                    # On ajoute les tâches de date d'arrivée atteinte\n",
    "                    indActiv += [idx for idx, e in enumerate(arr) if e == min(dateArr)]\n",
    "                    dateArr.remove(min(dateArr))\n",
    "                \n",
    "        else:\n",
    "            # Il n'y a pas de tâche active et on avance jusqu'à la prochaine arrivée de tâche\n",
    "            if len(dateArr) == 0: # Toutes les tâches sont arrivées\n",
    "                # Normalement on n'entre jamais ici car sum(restVrai) serait égal à 0\n",
    "                return cout\n",
    "            \n",
    "            # On met le temps à jour\n",
    "            temp = min(dateArr)\n",
    "            # On ajoute les tâches de date d'arrivée atteinte\n",
    "            #print(\"Il existe un temps de latence à cause de l'arrivée tardive d'une tâche\")\n",
    "            indActiv += [idx for idx, e in enumerate(arr) if e == min(dateArr)]\n",
    "            dateArr.remove(min(dateArr))\n",
    "            \n",
    "    return cout\n",
    "\n",
    "# On aurait simplement pu appeler predictionB(vrai, vrai, arr)"
   ]
  },
  {
   "cell_type": "markdown",
   "metadata": {},
   "source": [
    "#### Tests"
   ]
  },
  {
   "cell_type": "code",
   "execution_count": 18,
   "metadata": {},
   "outputs": [
    {
     "name": "stdout",
     "output_type": "stream",
     "text": [
      "sptB([5, 2, 4], [0, 1, 0]) : \n",
      "20\n"
     ]
    }
   ],
   "source": [
    "# Tests\n",
    "print(\"sptB([5, 2, 4], [0, 1, 0]) : \")\n",
    "print(sptB([5, 2, 4], [0, 1, 0]))     # On a bien le résultat voulu (voir plus haut)"
   ]
  },
  {
   "cell_type": "markdown",
   "metadata": {},
   "source": [
    "### ROUND-ROBIN  "
   ]
  },
  {
   "cell_type": "markdown",
   "metadata": {},
   "source": [
    "#### Implémentation"
   ]
  },
  {
   "cell_type": "code",
   "execution_count": 19,
   "metadata": {},
   "outputs": [],
   "source": [
    "def round_robinB(incon, arr, l=[]):\n",
    "    \"\"\" Implémentation de l'algorithme ROUND-ROBIN avec des dates d'arrivées\n",
    "    Parametres : incon une liste de vraies durées de tâches (qui nous est inconnue), arr liste de temps d'arrivée des tâches et \n",
    "    optionnellement l qui contiendra après l'éxecution du programme les temps de fins de chaque tâche \n",
    "    Retour : le coût de l'ordonnancement avec une politique ROUND-ROBIN\n",
    "    \"\"\"\n",
    "    restVrai = incon.copy() # La liste de durées restantes à executer pour chaque tâche\n",
    "    \n",
    "    # Les indices des tâches actives (càd celles qui sont déjà arrivées et qui n'ont pas fini de s'exécuter)\n",
    "    indActiv = [idx for idx, e in enumerate(arr) if e == 0] \n",
    "    \n",
    "    # Les dates d'arrivées futures\n",
    "    dateArr = set(arr) \n",
    "    \n",
    "    if len(indActiv) > 0:\n",
    "        dateArr.remove(0)\n",
    "    \n",
    "    cout = 0\n",
    "    temp = 0\n",
    "\n",
    "    while sum(restVrai) > 0:\n",
    "        # On exécute toutes les tâches actives en mm temps jusqu'à ce qu'une d'elle se termine ou qu'une nouvelle tâche arrive\n",
    "        if len(indActiv) > 0:\n",
    "            # On cherche la tâche la plus courte\n",
    "            ind = indActiv[0]\n",
    "            mini = restVrai[ind]\n",
    "            for e in indActiv:\n",
    "                if restVrai[e] < mini:\n",
    "                    ind = e\n",
    "                    mini = restVrai[e]\n",
    "                   \n",
    "            # On avance le temps jusqu'à ce qu'une nouvelle tâche arrive ou que la tâche la plus courte termine\n",
    "            if len(dateArr) > 0 and min(dateArr)-temp < restVrai[ind]*len(indActiv):\n",
    "                # Une nouvelle tâche arrive\n",
    "                # On enlève le temps passé aux tâches actives\n",
    "                for i in indActiv:\n",
    "                    restVrai[i] -= (min(dateArr)-temp)/len(indActiv)\n",
    "                \n",
    "                # Mise à jour du temps\n",
    "                temp = min(dateArr)\n",
    "                \n",
    "                # On ajoute les tâches de date d'arrivée atteinte\n",
    "                indActiv += [idx for idx, e in enumerate(arr) if e == min(dateArr)]\n",
    "                dateArr.remove(min(dateArr))\n",
    "\n",
    "            else:\n",
    "                # La tâche la plus courte s'est terminée\n",
    "                temp += restVrai[ind]*len(indActiv)\n",
    "                cout += temp\n",
    "                #print(\"Tache d'indice \", ind, \" fini à la date \", temp)\n",
    "                # On récupère dans l la date de fin de la tâche\n",
    "                if l != []:\n",
    "                    l[ind] = temp\n",
    "                    \n",
    "                # On enlève le temps passé aux tâches actives\n",
    "                uniteAchevee = restVrai[ind]\n",
    "                for i in indActiv:\n",
    "                    restVrai[i] -= uniteAchevee\n",
    "                \n",
    "                # La tâche n'est plus active\n",
    "                indActiv.remove(ind)\n",
    "                \n",
    "                # Si il y a de nouvelles tâches, on les ajoutes\n",
    "                if len(dateArr) > 0 and min(dateArr) - temp == 0:\n",
    "                    # On ajoute les tâches de date d'arrivée atteinte\n",
    "                    indActiv += [idx for idx, e in enumerate(arr) if e == min(dateArr)]\n",
    "                    dateArr.remove(min(dateArr))\n",
    "                \n",
    "        else:\n",
    "            # Il n'y a pas de tâche active et on avance jusqu'à la prochaine arrivée de tâche\n",
    "            if len(dateArr) == 0: # Toutes les tâches sont arrivées\n",
    "                # Normalement on n'entre jamais ici car sum(restVrai) serait égal à 0\n",
    "                return cout\n",
    "            \n",
    "            # On met le temps à jour\n",
    "            temp = min(dateArr)\n",
    "            # On ajoute les tâches de date d'arrivée atteinte\n",
    "            #print(\"Il existe un temps de latence à cause de l'arrivée tardive d'une tâche\")\n",
    "            indActiv += [idx for idx, e in enumerate(arr) if e == min(dateArr)]\n",
    "            dateArr.remove(min(dateArr))\n",
    "            \n",
    "    return cout   "
   ]
  },
  {
   "cell_type": "markdown",
   "metadata": {},
   "source": [
    "#### Tests commentés"
   ]
  },
  {
   "cell_type": "code",
   "execution_count": 20,
   "metadata": {},
   "outputs": [
    {
     "name": "stdout",
     "output_type": "stream",
     "text": [
      "round_robinB([5, 2, 4], [0, 1, 0], l=dateFin) : \n",
      "28.0\n",
      "Les dates de fins de tâches sont :  [11.0, 7, 10.0]\n"
     ]
    }
   ],
   "source": [
    "# Tests\n",
    "dateFin = [0, 0, 0]\n",
    "print(\"round_robinB([5, 2, 4], [0, 1, 0], l=dateFin) : \")\n",
    "print(round_robinB([5, 2, 4], [0, 1, 0], l=dateFin))   \n",
    "\n",
    "# En effet, du temps 0 au temps 1, les tâches 5 et 4 sont exécutées à hauteur de 1/2 par unité de temps. \n",
    "# La tâche de durée 2 arrive et il reste donc les durées d'exécution [4.5, 2, 3.5].\n",
    "# Puis les 3 tâches s'exécutent en même temps jusqu'à ce que celle de durée 2 finisse. Il lui faut 6 unités de temps (coût 7).\n",
    "# Il reste donc 2 tâches de durée respective 2.5 et 1.5.\n",
    "# Les 2 tâches s'exécutent en même temps jusqu'à ce que celle de durée 4 finisse. Il lui faut 3 unités de temps (coût de 10).\n",
    "# Il ne reste donc plus qu'une tâche nécessitant encore 1 unité de temps d'execution (coût 11).\n",
    "# Soit un coût total de 7+10+11 = 28.\n",
    "\n",
    "print(\"Les dates de fins de tâches sont : \", dateFin)    # On a bien récupéré les dates de fin de tâches"
   ]
  },
  {
   "cell_type": "markdown",
   "metadata": {},
   "source": [
    "### PRED-ROUND-ROBIN  "
   ]
  },
  {
   "cell_type": "markdown",
   "metadata": {},
   "source": [
    "#### Implémentation"
   ]
  },
  {
   "cell_type": "code",
   "execution_count": 21,
   "metadata": {},
   "outputs": [],
   "source": [
    "def pred_round_robinB(pred, vrai, arr, lamb):\n",
    "    \"\"\" Implémentation de l'algorithme PRED-ROUND-ROBIN\n",
    "    Parametres : pred la liste de prédictions de durées de tâches, vrai la liste de vraies durées de tâches (inconnue avant \n",
    "    l'exécution de ces dernières), arr une liste de temps d'arrivée des tâches et lamb le lambda déterminant la vitesse de \n",
    "    l'algorithme ROUND-ROBIN\n",
    "    Retour : le coût de l'ordonnancement avec une politique PRED-ROUND-ROBIN\n",
    "    \"\"\"\n",
    "    dateFinPred = [0 for i in range(len(vrai))]\n",
    "    dateFinRR = [0 for i in range(len(vrai))]\n",
    "    \n",
    "    predictionB(pred, vrai, arr, l=dateFinPred)\n",
    "    round_robinB(vrai, arr, l=dateFinRR)\n",
    "    \n",
    "    # Les dates de fin de tâches ont donc été mises à jour et il ne nous reste plus qu'à prendre le minimum\n",
    "    dateFinPRR = [min(dateFinPred[i]/(1-lamb), dateFinRR[i]/lamb)  for i in range(len(vrai))]\n",
    "    \n",
    "    return sum(dateFinPRR)"
   ]
  },
  {
   "cell_type": "markdown",
   "metadata": {},
   "source": [
    "#### Tests commentés"
   ]
  },
  {
   "cell_type": "code",
   "execution_count": 22,
   "metadata": {},
   "outputs": [
    {
     "name": "stdout",
     "output_type": "stream",
     "text": [
      "pred_round_robinB([5, 2, 4], [5, 2, 4], [0, 1, 0], 1/2) : \n",
      "40.0\n",
      "\n",
      "pred_round_robinB([3, 2, 4], [5, 2, 4], [0, 1, 0], 1/2) : \n",
      "44.0\n",
      "\n",
      "pred_round_robinB([3, 2, 4], [5, 2, 4], [0, 1, 0], 1/3) : \n",
      "34.49999999999999\n"
     ]
    }
   ],
   "source": [
    "# Tests\n",
    "# On suppose que la prédiction est exacte pour cet exemple :\n",
    "print(\"pred_round_robinB([5, 2, 4], [5, 2, 4], [0, 1, 0], 1/2) : \")\n",
    "print(pred_round_robinB([5, 2, 4], [5, 2, 4], [0, 1, 0], 1/2)) \n",
    "\n",
    "# On a bien les dates finales [22.0, 6.0, 12.0] puisque pour la tâche de durée 5, on a dû faire Min(22.0  ;  22.0) = 22.0,\n",
    "# pour la tâche de durée 2, on a dû faire Min(6.0  ;  14.0) = 6.0 et pour la tâche de durée 4, on a dû faire \n",
    "# Min(12.0  ;  20.0) = 12.0 et la somme de ces dates fait bien 22 + 6 + 12 = 40.\n",
    "\n",
    "# On suppose que la prédiction n'est pas exacte pour cet exemple :\n",
    "print(\"\\npred_round_robinB([3, 2, 4], [5, 2, 4], [0, 1, 0], 1/2) : \")\n",
    "print(pred_round_robinB([3, 2, 4], [5, 2, 4], [0, 1, 0], 1/2)) \n",
    "\n",
    "# On a bien les dates finales [10.0, 14.0, 20.0] puisque pour la tâche de durée 5, on a dû faire Min(10.0  ;  22.0) = 10.0,\n",
    "# pour la tâche de durée 2, on a dû faire Min(14.0  ;  14.0) = 14.0 et pour la tâche de durée 4, on a dû faire \n",
    "# Min(22.0  ;  20.0) = 20.0 et la somme de ces dates fait bien 10 + 14 + 20 = 44.\n",
    "\n",
    "# On prend un autre lambda :\n",
    "print(\"\\npred_round_robinB([3, 2, 4], [5, 2, 4], [0, 1, 0], 1/3) : \")\n",
    "print(pred_round_robinB([3, 2, 4], [5, 2, 4], [0, 1, 0], 1/3))\n",
    "\n",
    "# On a bien les dates finales [7.5, 10.5, 16.5] puisque pour la tâche de durée 5, on a dû faire Min(7.5  ;  33.0) = 7.5,\n",
    "# pour la tâche de durée 2, on a dû faire Min(10.5  ;  21.0) = 10.5 et pour la tâche de durée 4, on a dû faire \n",
    "# Min(16.5  ;  30.0) = 16.5 et la somme de ces dates fait bien 7.5 + 10.5 + 16.5 = 34.5."
   ]
  },
  {
   "cell_type": "markdown",
   "metadata": {},
   "source": [
    "#### Variante"
   ]
  },
  {
   "cell_type": "code",
   "execution_count": 23,
   "metadata": {},
   "outputs": [],
   "source": [
    "# Nous avions, avant votre réponse, un tout autre point de vue sur l'algorithme qui est le suivant :\n",
    "# (Nous tenions à le laisser car nous avons travaillé sur cet algorithme et que nous le trouvons interessant et plus performant)\n",
    "\n",
    "def pred_round_robinB2(pred, vrai, arr, lamb):\n",
    "    \"\"\" Implémentation de notre version de l'algorithme PRED-ROUND-ROBIN avec des dates d'arrivées\n",
    "    Parametres : pred la liste de prédictions de durées de tâches, vrai la liste de vraies durées de tâches (inconnue avant \n",
    "    l'exécution de ces dernières), arr une liste de temps d'arrivée des tâches et lamb le lambda déterminant la vitesse de \n",
    "    l'algorithme ROUND-ROBIN\n",
    "    Retour : le coût de l'ordonnancement avec une politique PRED-ROUND-ROBIN\n",
    "    \"\"\"\n",
    "    \n",
    "    restVrai = vrai.copy() # La liste de durées restantes à executer pour chaque tâche\n",
    "    restPred = pred.copy() # La liste de durées restantes prédites à executer pour chaque tâche\n",
    "    \n",
    "    # Les indices des tâches actives (càd celles qui sont déjà arrivées et qui n'ont pas fini de s'exécuter)\n",
    "    indActiv = [idx for idx, e in enumerate(arr) if e == 0] \n",
    "    \n",
    "    # Les dates d'arrivées futures\n",
    "    dateArr = set(arr) \n",
    "    \n",
    "    if len(indActiv) > 0:\n",
    "        dateArr.remove(0)\n",
    "    \n",
    "    cout = 0\n",
    "    temp = 0\n",
    "\n",
    "    while sum(restVrai) > 0:\n",
    "        # On exécute toutes les tâches actives en mm temps jusqu'à ce qu'une d'elle se termine ou qu'une nouvelle tâche arrive\n",
    "        if len(indActiv) > 0:\n",
    "            # indPred l'indice de la tâche traitée par prédiction et ind l'indice de la tâche la plus courte\n",
    "            indPred = indActiv[0]\n",
    "            miniPred = restPred[indPred]\n",
    "            ind = indActiv[0]\n",
    "            mini = restVrai[ind]\n",
    "            for e in indActiv:\n",
    "                if restPred[e] < miniPred:\n",
    "                    indPred = e\n",
    "                    miniPred = restPred[e]\n",
    "                if restVrai[e] < mini:\n",
    "                    ind = e\n",
    "                    mini = restVrai[e]\n",
    "                \n",
    "            # Calcul de tâche qui finira en premier(soit celle avec le min durée restante soit celle exécutée dans prediction)\n",
    "            # La tâche la plus courte, (pas celle exécutée par prédiction) finit en restVrai[ind]*len(indActiv)/lamb\n",
    "            # La tâche exécutée dans prediction finit en restVrai[indPred]/(1-lamb + lamb/len(indActiv)) \n",
    "            dateCourte = restVrai[ind]*len(indActiv)/lamb \n",
    "            datePred = restVrai[indPred]/(1-lamb + lamb/len(indActiv))\n",
    "            \n",
    "            if ind == indPred:\n",
    "                indFirst = ind\n",
    "                dateFirst = datePred\n",
    "            else:\n",
    "                if dateCourte < datePred:\n",
    "                    indFirst = ind\n",
    "                    dateFirst = dateCourte\n",
    "                else:\n",
    "                    indFirst = indPred\n",
    "                    dateFirst = datePred\n",
    "            \n",
    "            # On avance le temps jusqu'à ce qu'une nouvelle tâche arrive ou que une tâche termine\n",
    "            if len(dateArr) > 0 and min(dateArr)-temp < dateFirst:\n",
    "                # Une nouvelle tâche arrive\n",
    "                # On enlève le temps passé aux tâches actives\n",
    "                for i in indActiv:\n",
    "                    restVrai[i] -= lamb*(min(dateArr)-temp)/len(indActiv)\n",
    "                    restPred[i] -= lamb*(min(dateArr)-temp)/len(indActiv)\n",
    "                    \n",
    "                restVrai[indPred] -= (1-lamb)*(min(dateArr)-temp)\n",
    "                restPred[indPred] -= (1-lamb)*(min(dateArr)-temp)\n",
    "                \n",
    "                # Mise à jour du temps\n",
    "                temp = min(dateArr)\n",
    "                \n",
    "                # On ajoute les tâches de date d'arrivée atteinte\n",
    "                indActiv += [idx for idx, e in enumerate(arr) if e == min(dateArr)]\n",
    "                dateArr.remove(min(dateArr))\n",
    "\n",
    "            else:\n",
    "                # La tâche la plus courte s'est terminée\n",
    "                temp += dateFirst\n",
    "                cout += temp\n",
    "                #print(\"Tache d'indice \", indFirst, \" fini à la date \", temp)\n",
    "                \n",
    "                # On enlève le temps passé aux tâches actives\n",
    "                for i in indActiv:\n",
    "                    restVrai[i] -= lamb*dateFirst/len(indActiv)\n",
    "                    restPred[i] -= lamb*dateFirst/len(indActiv)\n",
    "                restVrai[indPred] -= (1-lamb)*dateFirst\n",
    "                restPred[indPred] -= (1-lamb)*dateFirst\n",
    "                restVrai[indFirst] = 0 # Afin d'éviter les erreurs d'arrondi\n",
    "                \n",
    "                # La tâche n'est plus active\n",
    "                indActiv.remove(indFirst)\n",
    "                \n",
    "                # Si il y a de nouvelles tâches, on les ajoutes\n",
    "                if len(dateArr) > 0 and min(dateArr) - temp == 0:\n",
    "                    # On ajoute les tâches de date d'arrivée atteinte\n",
    "                    indActiv += [idx for idx, e in enumerate(arr) if e == min(dateArr)]\n",
    "                    dateArr.remove(min(dateArr))\n",
    "                \n",
    "        else:\n",
    "            # Il n'y a pas de tâche active et on avance jusqu'à la prochaine arrivée de tâche\n",
    "            if len(dateArr) == 0: # Toutes les tâches sont arrivées\n",
    "                # Normalement on n'entre jamais ici car sum(restVrai) serait égal à 0\n",
    "                return cout\n",
    "            \n",
    "            # On met le temps à jour\n",
    "            temp = min(dateArr)\n",
    "            # On ajoute les tâches de date d'arrivée atteinte\n",
    "            #print(\"Il existe un temps de latence à cause de l'arrivée tardive d'une tâche\")\n",
    "            indActiv += [idx for idx, e in enumerate(arr) if e == min(dateArr)]\n",
    "            dateArr.remove(min(dateArr))\n",
    "            \n",
    "    return cout"
   ]
  },
  {
   "cell_type": "code",
   "execution_count": 24,
   "metadata": {},
   "outputs": [
    {
     "name": "stdout",
     "output_type": "stream",
     "text": [
      "pred_round_robinB2([5, 2, 4], [5, 2, 4], [0, 1, 0], 1/2) : \n",
      "22.666666666666664\n",
      "\n",
      "pred_round_robinB2([3, 2, 4], [5, 2, 4], [0, 1, 0], 1/2) : \n",
      "24.0\n",
      "\n",
      "pred_round_robinB2([3, 2, 4], [5, 2, 4], [0, 1, 0], 1/3) : \n",
      "22.799999999999997\n"
     ]
    }
   ],
   "source": [
    "# Tests\n",
    "# On suppose que la prédiction est exacte pour cet exemple :\n",
    "print(\"pred_round_robinB2([5, 2, 4], [5, 2, 4], [0, 1, 0], 1/2) : \")\n",
    "print(pred_round_robinB2([5, 2, 4], [5, 2, 4], [0, 1, 0], 1/2)) \n",
    "\n",
    "# En effet, du temps 0 au temps 1, les tâches 5 et 4 sont exécutées à hauteur respective de 1/4 et 3/4 par unité de temps. \n",
    "# La tâche de durée 2 arrive et il reste donc les durées d'exécution [4.75, 2, 3.25].\n",
    "# Puis les 3 tâches s'exécutent en même temps à hauteur respective de 1/6, 2/3 et 1/6 par unité de temps jusqu'à ce que celle\n",
    "# de durée 2 finisse. Il lui faut 3 unités de temps puisque 3*2/3 = 2 (coût 4).\n",
    "# Il reste donc 2 tâches de durée respective 4.75 - 1/2 = 4.25 et 3.25 - 1/2 = 2.75.\n",
    "# Les 2 tâches s'exécutent en même temps à hauteur respective de 1/4 et 3/4 par unité de temps jusqu'à ce que celle de durée 4 \n",
    "# finisse. Il lui faut 3.6667 unités de temps puisque 3.6667*3/4 = 2.75 (coût de 7.6667).\n",
    "# Il ne reste donc plus qu'une tâche nécessitant encore 4.25 - 3.6667/4 = 3.3333 unité de temps d'execution (coût 11).\n",
    "# Soit un coût total de 4+7.6667+11 = 22.6667.\n",
    "\n",
    "\n",
    "# On suppose que la prédiction n'est pas exacte pour cet exemple :\n",
    "print(\"\\npred_round_robinB2([3, 2, 4], [5, 2, 4], [0, 1, 0], 1/2) : \")\n",
    "print(pred_round_robinB2([3, 2, 4], [5, 2, 4], [0, 1, 0], 1/2)) \n",
    "\n",
    "# En effet, du temps 0 au temps 1, les tâches 5 et 4 sont exécutées à hauteur respective de 3/4 et 1/4 par unité de temps. \n",
    "# La tâche de durée 2 arrive et il reste donc les durées d'exécution [4.25, 2, 3.75].\n",
    "# Puis les 3 tâches s'exécutent en même temps à hauteur respective de 1/6, 2/3 et 1/6 par unité de temps jusqu'à ce que celle \n",
    "# de durée 2 finisse. Il lui faut 3 unités de temps puisque 3*2/3 = 2 (coût 4).\n",
    "# Il reste donc 2 tâches de durée respective 4.25 - 1/2 = 3.75 et 3.75 - 1/2 = 3.25.\n",
    "# Les 2 tâches s'exécutent en même temps à hauteur respective de 3/4 et 1/4 par unité de temps jusqu'à ce que celle de durée 5 \n",
    "# finisse. Il lui faut 5 unités de temps puisque 5*3/4 = 3.75 (coût de 9).\n",
    "# Il ne reste donc plus qu'une tâche nécessitant encore 3.25 - 5/4 = 2 unités de temps d'execution (coût 11).\n",
    "# Soit un coût total de 4+9+11 = 24.\n",
    "\n",
    "\n",
    "# On prend un autre lambda :\n",
    "print(\"\\npred_round_robinB2([3, 2, 4], [5, 2, 4], [0, 1, 0], 1/3) : \")\n",
    "print(pred_round_robinB2([3, 2, 4], [5, 2, 4], [0, 1, 0], 1/3))\n",
    "\n",
    "# En effet, du temps 0 au temps 1, les tâches 5 et 4 sont exécutées à hauteur respective de 5/6 et 1/6 par unité de temps. \n",
    "# La tâche de durée 2 arrive et il reste donc les durées d'exécution [4.17, 2, 3.83].\n",
    "# Puis les 3 tâches s'exécutent en même temps à hauteur respective de 1/9, 7/9 et 1/9 par unité de temps jusqu'à ce que celle \n",
    "# de durée 2 finisse. Il lui faut 2.57 unités de temps puisque 2.57*7/9 = 2 (coût de 3.57).\n",
    "# Il reste donc 2 tâches de durée respective 4.17 - 2.57/9 = 3.88 et 3.83 - 2.57/9 = 3.54.\n",
    "# Les 2 tâches s'exécutent en même temps à hauteur respective de 5/6 et 1/6 par unité de temps jusqu'à ce que celle de durée 5 \n",
    "# finisse. Il lui faut 4.66 unités de temps puisque 4.66*5/6 = 3.88 (coût de 8.23).\n",
    "# Il ne reste donc plus qu'une tâche nécessitant encore 3.54 - 4.66/6 = 2.77 unités de temps d'execution (coût 11).\n",
    "# Soit un coût total de 3.57 + 8.23 + 11 = 22.8."
   ]
  },
  {
   "cell_type": "markdown",
   "metadata": {},
   "source": [
    "## Simulations"
   ]
  },
  {
   "cell_type": "markdown",
   "metadata": {},
   "source": [
    "### Fonctions préalables"
   ]
  },
  {
   "cell_type": "markdown",
   "metadata": {},
   "source": [
    "#### Pour la génération des données"
   ]
  },
  {
   "cell_type": "code",
   "execution_count": 25,
   "metadata": {},
   "outputs": [
    {
     "name": "stdout",
     "output_type": "stream",
     "text": [
      "Vrai =  [1.9352949442938665, 0.05919658331041111, 0.20709625993441683, 2.494677915700897, 1.3986592424794209, 6.813322310608207, 0.16322792840693912, 2.15914278008287, 0.23379339843756886, 1.5077844036956756, 0.7194998135629747, 1.3427853907760285, 14.479742340094583, 1.2014376997891292, 0.7878592703455707, 0.29786511481585753, 6.650771424371219, 0.8841708421551493, 0.2682460905854043, 0.6746392691054237, 0.19563666221479892, 14.37724679843469, 5.403522843180984, 0.016458653800540457, 0.7330168956627623, 3.8837924538953734, 1.8470929138793304, 0.6062068435571946, 0.060170227570555124, 0.30360472832915564, 0.03774303577800975, 0.20527099952103556, 14.94647831339523, 0.15306004117426375, 2.0772244874028756, 1.2485090124489049, 0.6710123998217399, 1.4427563115287327, 94.96652690374927, 8.218866321497606, 1.2513918742675738, 0.03828905266640881, 1.1179114046775709, 38.15790944568062, 0.0402402684669223, 2.060582400781438, 2.482861439346333, 0.018717010875102025, 0.1137349009411679, 0.21994033712058725]\n",
      "\n",
      "Pred =  [3.76, 0.89, 0, 2.48, 0, 7.0, 0.79, 3.89, 2.57, 1.26, 0.56, 3.83, 16.16, 0, 1.74, 0.91, 6.61, 2.59, 0, 1.39, 0, 11.78, 3.35, 0, 0, 4.76, 3.61, 1.05, 0, 1.87, 0.85, 1.4, 15.35, 0.43, 3.34, 0, 3.41, 0, 93.35, 7.33, 2.88, 0, 2.56, 39.92, 0, 3.35, 2.89, 0, 0, 0.81]\n"
     ]
    }
   ],
   "source": [
    "import numpy as np\n",
    "\n",
    "nbTaches = 50\n",
    "alpha = 1.1\n",
    "sigma = 1.5 # Afin d'avoir des prédictions pas trop proches de la réalité\n",
    "\n",
    "vrai = [np.random.pareto(alpha) for i in range(nbTaches)]\n",
    "bruit = np.random.randn(nbTaches)*sigma\n",
    "pred = [round(vrai[i] + bruit[i], 2) for i in range(nbTaches)]\n",
    "\n",
    "# On vérifie qu'aucune prédiction n'est négative :\n",
    "for i in range(len(pred)):\n",
    "    if pred[i]<0:\n",
    "        pred[i] = 0\n",
    "\n",
    "print(\"Vrai = \", vrai)\n",
    "print(\"\\nPred = \", pred)"
   ]
  },
  {
   "cell_type": "code",
   "execution_count": 26,
   "metadata": {},
   "outputs": [],
   "source": [
    "def erreur_prediction(pred, vrai):\n",
    "    \"\"\" Calcule l'erreur de prédiction\n",
    "    Parametres : pred la liste de prédictions de durées de tâches, vrai la liste de vraies durées de tâches \n",
    "    Retour : l'erreur de prédiction\n",
    "    \"\"\"\n",
    "    res = 0\n",
    "    for i in range(len(pred)):\n",
    "        res += abs(pred[i] - vrai[i])\n",
    "        \n",
    "    return res"
   ]
  },
  {
   "cell_type": "code",
   "execution_count": 27,
   "metadata": {},
   "outputs": [
    {
     "name": "stdout",
     "output_type": "stream",
     "text": [
      "erreur_prediction(pred, vrai) : \n",
      "48.74874142209678\n"
     ]
    }
   ],
   "source": [
    "# Tests \n",
    "print(\"erreur_prediction(pred, vrai) : \")\n",
    "print(erreur_prediction(pred, vrai))"
   ]
  },
  {
   "cell_type": "markdown",
   "metadata": {},
   "source": [
    "#### Pour la comparaison des algorithmes"
   ]
  },
  {
   "cell_type": "code",
   "execution_count": 28,
   "metadata": {},
   "outputs": [],
   "source": [
    "# Pour chaque algorithme calculons le rapport de compétitivité en fonction de l’erreur de prédiction\n",
    "\n",
    "import matplotlib.pyplot as plt"
   ]
  },
  {
   "cell_type": "code",
   "execution_count": 29,
   "metadata": {},
   "outputs": [],
   "source": [
    "def show_multiple_sims(XYlegendes):\n",
    "    for _ in XYlegendes:\n",
    "        X, Y, legende = _\n",
    "        plt.plot([X[s] for s in range(len(X[:-1])) if Y[s] != 0], [y for y in Y if y != 0] , label=legende)\n",
    "        #plt.plot(X, Y, label=legende)\n",
    "\n",
    "        plt.xlabel('Erreur de prédiction')\n",
    "        plt.ylabel('Rapport de compétitivité')\n",
    "        #plt.legend(loc='best')\n",
    "        plt.legend(bbox_to_anchor=(1.05, 1), loc='upper left', borderaxespad=0.)\n",
    "    plt.show()"
   ]
  },
  {
   "cell_type": "code",
   "execution_count": 30,
   "metadata": {},
   "outputs": [],
   "source": [
    "def simulation2(OPT, f=prediction, nbTaches=50, nbPoints=20000, \n",
    "                lamb=1/2, partie=\"A\", legende=\"Prediction\", sigma=1.5, alpha=1.1):\n",
    "    \"\"\"Cette fonction renvoie le rapport de compétitivité de f en fonction des erreurs de prédiction. \n",
    "    Les différentes valeurs de rapports de compétitivité sont triées par classes de valeurs d'erreurs de prédiction. \n",
    "    De ces classes sont tirés les maxima qui seront alors les valeurs de rapports de compétitivité renvoyées.\n",
    "    \"\"\"\n",
    "    ## Génération des x\n",
    "    vrai_pred_arr = []\n",
    "    for i in range(nbPoints):\n",
    "        vrai = [np.random.pareto(alpha)+1 for i in range(nbTaches)]\n",
    "        bruit = np.random.randn(nbTaches)*sigma\n",
    "        pred = [round(vrai[i] + bruit[i], 2) for i in range(nbTaches)]        \n",
    "        # arr : list(float), liste d'arrivées des tâches\n",
    "        arr = [int(np.random.randint(0, int(nbTaches * min(vrai)))) for i in range(nbTaches)] \n",
    "        vrai_pred_arr.append((vrai, pred, arr))\n",
    "\n",
    "    vrai_pred_arr.sort(key=lambda vpa: erreur_prediction(vpa[1], vpa[0]))\n",
    "    X = [erreur_prediction(p, v) for (v, p, a) in vrai_pred_arr]\n",
    "    Y = []\n",
    "    ## Génération des y\n",
    "    for v_p_a in vrai_pred_arr:\n",
    "        vrai, pred, arr = v_p_a\n",
    "        if partie == \"A\":\n",
    "            argsOPT = [vrai]\n",
    "            if f == prediction:\n",
    "                argsf = [pred, vrai]\n",
    "            elif f == round_robin:\n",
    "                argsf = [vrai]\n",
    "            elif f == pred_round_robin or f == pred_round_robin2:  \n",
    "                argsf = [pred, vrai, lamb]\n",
    "        elif partie == \"B\":\n",
    "            argsOPT = [vrai, arr]\n",
    "            if f == predictionB:\n",
    "                argsf = [pred, vrai, arr]\n",
    "            elif f == round_robinB:\n",
    "                argsf = [vrai, arr]\n",
    "            elif f == pred_round_robinB or f == pred_round_robinB2:  \n",
    "                argsf = [pred, vrai, arr, lamb]\n",
    "            else:\n",
    "                raise ValueError(\"Fonction f non reconnue\")\n",
    "        else:\n",
    "            raise ValueError(\"Paramètre partie \"+ partie +\" non reconnue\")\n",
    "\n",
    "        resf = f(*argsf)\n",
    "        resOPT = OPT(*argsOPT)\n",
    "        if type(resf) is tuple:\n",
    "            rf = resf[1]\n",
    "        else:\n",
    "            rf = resf\n",
    "        if type(resOPT) is tuple:\n",
    "            ropt = resOPT[1]\n",
    "        else:\n",
    "            ropt = resOPT\n",
    "\n",
    "        Y.append(rf / ropt)\n",
    "\n",
    "    \"\"\" À partir d'ici on crée des classes de valeurs comme pour un histogramme, dont on tirera le maximum, \n",
    "    puisque le rapport de compétitivité est calculé en fonction du pire cas des algorithmes.\"\"\"\n",
    "    # precision : int, nombre de classes voulues. Si trop élevé, peut avoir un impact néfaste (classes vides).\n",
    "    precision = 50\n",
    "    xmin = min(X)\n",
    "    xmax = max(X)\n",
    "    step = (xmax - xmin )/precision\n",
    "    stages = [xmin]\n",
    "    while max(stages) < xmax:\n",
    "        stages.append(stages[-1] + step)\n",
    "    classes = [[Y[j] for j in range(len(X)) if X[j] >= stages[i] and X[j] < stages[i+1]] for i in range(len(stages) - 1)]\n",
    "    \n",
    "    # On met un 0 pour les classes vides. Les fonctions d'affichage devront en tenir compte.\n",
    "    newY = [max(c) if len(c) > 0 else 0 for c in classes]\n",
    "    return stages, newY, legende\n",
    "#    show_sim(stages, newY, legende)"
   ]
  },
  {
   "cell_type": "markdown",
   "metadata": {},
   "source": [
    "# Mini rapport"
   ]
  },
  {
   "cell_type": "markdown",
   "metadata": {},
   "source": [
    "#### *Présentation des résultats*"
   ]
  },
  {
   "cell_type": "markdown",
   "metadata": {},
   "source": [
    "## Exemple de 10 tâches et l’exécution pour chaque algorithme"
   ]
  },
  {
   "cell_type": "markdown",
   "metadata": {},
   "source": [
    "Dans cette partie nous allons tester et comparer nos fonctions sur 10 tâches. Les vraies valeurs des durées de tâches sont tirées selon une distribution de Pareto avec un paramètre alpha égal à 1.1. Les valeurs des prédictions sont obtenues selon une distribution normale autour des vraies valeurs de durées et tâches, avec un paramètre sigma de 1.5."
   ]
  },
  {
   "cell_type": "markdown",
   "metadata": {},
   "source": [
    "Nous avons résumé les résultats en fin de section dans un tableau récapitulatif."
   ]
  },
  {
   "cell_type": "code",
   "execution_count": 31,
   "metadata": {},
   "outputs": [
    {
     "name": "stdout",
     "output_type": "stream",
     "text": [
      "Vrai =  [11.71, 33.59, 0.57, 0.21, 1.2, 0.32, 0.03, 0.97, 0.2, 0.74]\n",
      "\n",
      "Pred =  [13.06, 33.76, 1.4, 0, 0.5, 1.89, 0, 2.57, 3.46, 0]\n"
     ]
    }
   ],
   "source": [
    "nbTaches = 10\n",
    "alpha = 1.1\n",
    "sigma = 1.5\n",
    "\n",
    "vrai = [round(np.random.pareto(alpha), 2) for i in range(nbTaches)]\n",
    "bruit = np.random.randn(nbTaches)*sigma\n",
    "pred = [round(vrai[i] + bruit[i], 2) for i in range(nbTaches)]\n",
    "\n",
    "# On vérifie qu'aucune prédiction n'est négative :\n",
    "for i in range(len(pred)):\n",
    "    if pred[i]<0:\n",
    "        pred[i] = 0\n",
    "\n",
    "print(\"Vrai = \", vrai)\n",
    "print(\"\\nPred = \", pred)\n",
    "\n",
    "Cout =[]"
   ]
  },
  {
   "cell_type": "code",
   "execution_count": 32,
   "metadata": {},
   "outputs": [
    {
     "name": "stdout",
     "output_type": "stream",
     "text": [
      "prediction( [13.06, 33.76, 1.4, 0, 0.5, 1.89, 0, 2.57, 3.46, 0] , [11.71, 33.59, 0.57, 0.21, 1.2, 0.32, 0.03, 0.97, 0.2, 0.74] , l=dateFin) : \n",
      "L'ordonnancement obtenu est :  [0.21, 0.03, 0.74, 1.2, 0.57, 0.32, 0.97, 0.2, 11.71, 33.59]\n",
      "de coût  83.2\n",
      "Les dates de fins de tâches sont :  [15.95, 49.540000000000006, 2.7499999999999996, 0.21, 2.1799999999999997, 3.0699999999999994, 0.24, 4.039999999999999, 4.239999999999999, 0.98]\n"
     ]
    }
   ],
   "source": [
    "# Execution pour Prediction :\n",
    "dateFin = [0 for i in range(nbTaches)]\n",
    "print(\"prediction(\", pred, \",\", vrai, \", l=dateFin) : \")\n",
    "res = prediction(pred, vrai, l=dateFin)\n",
    "print(\"L'ordonnancement obtenu est : \", res[0])\n",
    "print(\"de coût \", res[1])\n",
    "Cout.append(res[1])\n",
    "print(\"Les dates de fins de tâches sont : \", dateFin)   "
   ]
  },
  {
   "cell_type": "code",
   "execution_count": 33,
   "metadata": {},
   "outputs": [
    {
     "name": "stdout",
     "output_type": "stream",
     "text": [
      "spt( [11.71, 33.59, 0.57, 0.21, 1.2, 0.32, 0.03, 0.97, 0.2, 0.74] ) : \n",
      "L'ordonnancement obtenu est :  [0.03, 0.2, 0.21, 0.32, 0.57, 0.74, 0.97, 1.2, 11.71, 33.59]\n",
      "de coût  77.63000000000001\n"
     ]
    }
   ],
   "source": [
    "# Execution pour Spt :\n",
    "print(\"spt(\",vrai,\") : \")\n",
    "res = spt(vrai)    \n",
    "print(\"L'ordonnancement obtenu est : \", res[0])\n",
    "print(\"de coût \", res[1])\n",
    "Cout.append(res[1])"
   ]
  },
  {
   "cell_type": "code",
   "execution_count": 34,
   "metadata": {},
   "outputs": [
    {
     "name": "stdout",
     "output_type": "stream",
     "text": [
      "round_robin( [11.71, 33.59, 0.57, 0.21, 1.2, 0.32, 0.03, 0.97, 0.2, 0.74] , l=dateFin) : \n",
      "L'ordonnancement obtenu a un coût de  105.72000000000001\n",
      "Les dates de fins de tâches sont :  [27.660000000000004, 49.540000000000006, 4.18, 1.91, 6.640000000000001, 2.68, 0.3, 5.95, 1.83, 5.03]\n"
     ]
    }
   ],
   "source": [
    "# Execution pour Round-Robin :\n",
    "dateFin = [0 for i in range(nbTaches)]\n",
    "print(\"round_robin(\",vrai,\", l=dateFin) : \") \n",
    "Cout.append(round_robin(vrai, l=dateFin))\n",
    "print(\"L'ordonnancement obtenu a un coût de \", Cout[-1])  \n",
    "print(\"Les dates de fins de tâches sont : \", dateFin)   "
   ]
  },
  {
   "cell_type": "code",
   "execution_count": 35,
   "metadata": {},
   "outputs": [
    {
     "name": "stdout",
     "output_type": "stream",
     "text": [
      "pred_round_robin( [13.06, 33.76, 1.4, 0, 0.5, 1.89, 0, 2.57, 3.46, 0] , [11.71, 33.59, 0.57, 0.21, 1.2, 0.32, 0.03, 0.97, 0.2, 0.74] ,  0.5 ) : \n",
      "L'ordonnancement obtenu a un coût de  160.8\n"
     ]
    }
   ],
   "source": [
    "# Execution pour Pred-Round-Robin :\n",
    "lamb = 1/2\n",
    "print(\"pred_round_robin(\", pred, \",\", vrai, \", \", lamb, \") : \")\n",
    "Cout.append(pred_round_robin(pred, vrai, lamb))\n",
    "print(\"L'ordonnancement obtenu a un coût de \", Cout[-1]) "
   ]
  },
  {
   "cell_type": "code",
   "execution_count": 36,
   "metadata": {},
   "outputs": [
    {
     "name": "stdout",
     "output_type": "stream",
     "text": [
      "pred_round_robin2( [13.06, 33.76, 1.4, 0, 0.5, 1.89, 0, 2.57, 3.46, 0] , [11.71, 33.59, 0.57, 0.21, 1.2, 0.32, 0.03, 0.97, 0.2, 0.74] ,  0.5 ) : \n",
      "L'ordonnancement obtenu a un coût de  92.3384915824916\n"
     ]
    }
   ],
   "source": [
    "# Execution pour notre version de Pred-Round-Robin :\n",
    "lamb = 1/2\n",
    "print(\"pred_round_robin2(\", pred, \",\", vrai, \", \", lamb, \") : \")\n",
    "Cout.append( pred_round_robin2(pred, vrai, lamb))\n",
    "print(\"L'ordonnancement obtenu a un coût de \", Cout[-1]) "
   ]
  },
  {
   "cell_type": "code",
   "execution_count": 37,
   "metadata": {},
   "outputs": [
    {
     "name": "stdout",
     "output_type": "stream",
     "text": [
      "predictionB( [13.06, 33.76, 1.4, 0, 0.5, 1.89, 0, 2.57, 3.46, 0] , [11.71, 33.59, 0.57, 0.21, 1.2, 0.32, 0.03, 0.97, 0.2, 0.74] , [0, 0, 0, 0, 0, 0, 0, 0, 0, 0] , l=dateFin) : \n",
      "L'ordonnancement obtenu a un coût de  83.2\n",
      "Les dates de fins de tâches sont :  [15.95, 49.540000000000006, 2.7499999999999996, 0.21, 2.1799999999999997, 3.0699999999999994, 0.24, 4.039999999999999, 4.239999999999999, 0.98]\n"
     ]
    }
   ],
   "source": [
    "# Execution pour Prediction partie B :\n",
    "dateFin = [0 for i in range(nbTaches)]\n",
    "arr = [int(np.random.randint(0, int(nbTaches * min(vrai))+1)) for i in range(nbTaches)] \n",
    "print(\"predictionB(\", pred, \",\", vrai, \",\", arr, \", l=dateFin) : \")\n",
    "Cout.append(predictionB(pred, vrai, arr, l=dateFin))\n",
    "print(\"L'ordonnancement obtenu a un coût de \", Cout[-1])\n",
    "print(\"Les dates de fins de tâches sont : \", dateFin) "
   ]
  },
  {
   "cell_type": "code",
   "execution_count": 38,
   "metadata": {},
   "outputs": [
    {
     "name": "stdout",
     "output_type": "stream",
     "text": [
      "sptB( [11.71, 33.59, 0.57, 0.21, 1.2, 0.32, 0.03, 0.97, 0.2, 0.74] , [0, 0, 0, 0, 0, 0, 0, 0, 0, 0] ) : \n",
      "L'ordonnancement obtenu a un coût de  77.63000000000001\n"
     ]
    }
   ],
   "source": [
    "# Execution pour Spt partie B :\n",
    "print(\"sptB(\",vrai, \",\", arr, \") : \")\n",
    "Cout.append(sptB(vrai, arr))\n",
    "print(\"L'ordonnancement obtenu a un coût de \", Cout[-1])    "
   ]
  },
  {
   "cell_type": "code",
   "execution_count": 39,
   "metadata": {},
   "outputs": [
    {
     "name": "stdout",
     "output_type": "stream",
     "text": [
      "round_robinB( [11.71, 33.59, 0.57, 0.21, 1.2, 0.32, 0.03, 0.97, 0.2, 0.74] , [0, 0, 0, 0, 0, 0, 0, 0, 0, 0] , l=dateFin) : \n",
      "L'ordonnancement obtenu a un coût de  105.72000000000001\n",
      "Les dates de fins de tâches sont :  [27.660000000000004, 49.540000000000006, 4.18, 1.91, 6.640000000000001, 2.68, 0.3, 5.95, 1.83, 5.03]\n"
     ]
    }
   ],
   "source": [
    "# Execution pour Round-Robin partie B :\n",
    "dateFin = [0 for i in range(nbTaches)]\n",
    "print(\"round_robinB(\",vrai, \",\", arr, \", l=dateFin) : \")\n",
    "Cout.append(round_robinB(vrai, arr, l=dateFin))\n",
    "print(\"L'ordonnancement obtenu a un coût de \", Cout[-1])      \n",
    "print(\"Les dates de fins de tâches sont : \", dateFin)   "
   ]
  },
  {
   "cell_type": "code",
   "execution_count": 40,
   "metadata": {},
   "outputs": [
    {
     "name": "stdout",
     "output_type": "stream",
     "text": [
      "pred_round_robinB( [13.06, 33.76, 1.4, 0, 0.5, 1.89, 0, 2.57, 3.46, 0] , [11.71, 33.59, 0.57, 0.21, 1.2, 0.32, 0.03, 0.97, 0.2, 0.74] , [0, 0, 0, 0, 0, 0, 0, 0, 0, 0] ,  0.5 ) : \n",
      "L'ordonnancement obtenu a un coût de  160.8\n"
     ]
    }
   ],
   "source": [
    "# Execution pour Pred-Round-Robin partie B :\n",
    "lamb = 1/2\n",
    "print(\"pred_round_robinB(\", pred, \",\", vrai, \",\", arr, \", \", lamb, \") : \")\n",
    "Cout.append(pred_round_robinB(pred, vrai, arr, lamb))\n",
    "print(\"L'ordonnancement obtenu a un coût de \", Cout[-1]) "
   ]
  },
  {
   "cell_type": "code",
   "execution_count": 41,
   "metadata": {},
   "outputs": [
    {
     "name": "stdout",
     "output_type": "stream",
     "text": [
      "pred_round_robinB2( [13.06, 33.76, 1.4, 0, 0.5, 1.89, 0, 2.57, 3.46, 0] , [11.71, 33.59, 0.57, 0.21, 1.2, 0.32, 0.03, 0.97, 0.2, 0.74] , [0, 0, 0, 0, 0, 0, 0, 0, 0, 0] ,  0.5 ) : \n",
      "L'ordonnancement obtenu a un coût de  92.3384915824916\n"
     ]
    }
   ],
   "source": [
    "# Execution pour notre version de Pred-Round-Robin partie B :\n",
    "lamb = 1/2\n",
    "print(\"pred_round_robinB2(\", pred, \",\", vrai, \",\", arr, \", \", lamb, \") : \")\n",
    "Cout.append(pred_round_robinB2(pred, vrai, arr, lamb))\n",
    "print(\"L'ordonnancement obtenu a un coût de \", Cout[-1]) "
   ]
  },
  {
   "cell_type": "code",
   "execution_count": 42,
   "metadata": {},
   "outputs": [
    {
     "name": "stdout",
     "output_type": "stream",
     "text": [
      "En résumé, voici les coûts trouvés avec chaque algorithme pour la partie A : \n",
      "Pour PREDICTION \t    :  83.2\n",
      "Pour SPT \t \t    :  77.63000000000001\n",
      "Pour ROUND-ROBIN \t    :  105.72000000000001\n",
      "Pour PRED-ROUND-ROBIN \t    :  160.8\n",
      "Pour notre PRED-ROUND-ROBIN :  92.3384915824916\n",
      "\n",
      "Et voici les coûts trouvés avec chaque algorithme pour la partie B :\n",
      "Pour PREDICTION \t    :  83.2\n",
      "Pour SPT \t \t    :  77.63000000000001\n",
      "Pour ROUND-ROBIN \t    :  105.72000000000001\n",
      "Pour PRED-ROUND-ROBIN \t    :  160.8\n",
      "Pour notre PRED-ROUND-ROBIN :  92.3384915824916\n"
     ]
    }
   ],
   "source": [
    "print(\"En résumé, voici les coûts trouvés avec chaque algorithme pour la partie A : \")\n",
    "print(\"Pour PREDICTION \\t    : \", Cout[0])\n",
    "print(\"Pour SPT \\t \\t    : \", Cout[1])\n",
    "print(\"Pour ROUND-ROBIN \\t    : \", Cout[2])\n",
    "print(\"Pour PRED-ROUND-ROBIN \\t    : \", Cout[3])\n",
    "print(\"Pour notre PRED-ROUND-ROBIN : \", Cout[4])\n",
    "\n",
    "print(\"\\nEt voici les coûts trouvés avec chaque algorithme pour la partie B :\")\n",
    "print(\"Pour PREDICTION \\t    : \", Cout[5])\n",
    "print(\"Pour SPT \\t \\t    : \", Cout[6])\n",
    "print(\"Pour ROUND-ROBIN \\t    : \", Cout[7])\n",
    "print(\"Pour PRED-ROUND-ROBIN \\t    : \", Cout[8])\n",
    "print(\"Pour notre PRED-ROUND-ROBIN : \", Cout[9])"
   ]
  },
  {
   "cell_type": "markdown",
   "metadata": {},
   "source": [
    "À première vue, l'algorithme prediction semble être le meilleur (après SPT naturellement). Mais nous verrons plus tard que cette performance dépend beaucoup du paramètre arbitraire sigma, à l'oeuvre dans la génération aléatoire des prédictions."
   ]
  },
  {
   "cell_type": "markdown",
   "metadata": {},
   "source": [
    "## Les choix pour les données et les résultats de simulations commentés"
   ]
  },
  {
   "cell_type": "markdown",
   "metadata": {},
   "source": [
    "Dans cette partie nous avons fait des simulations pour comparer les différentes fonctions d'ordonnancement. Les vraies valeurs des durées de tâches sont tirées selon une distribution de Pareto avec un paramètre alpha égal à 1.1. Les valeurs des prédictions sont obtenues selon une distribution normale autour des vraies valeurs de durées et tâches, avec un paramètre sigma que l'on fera varier. Nous testons pour 50 tâches."
   ]
  },
  {
   "cell_type": "markdown",
   "metadata": {},
   "source": [
    "## Partie A"
   ]
  },
  {
   "cell_type": "markdown",
   "metadata": {},
   "source": [
    "Dans cette partie, on considère que toutes les tâches peuvent débuter au temps 0."
   ]
  },
  {
   "cell_type": "markdown",
   "metadata": {},
   "source": [
    "Dans un premier temps, on fixe un paramètre sigma à 1.5 pour la qualité des prédictions."
   ]
  },
  {
   "cell_type": "code",
   "execution_count": 43,
   "metadata": {},
   "outputs": [],
   "source": [
    "## Pour la partie A\n",
    "S = 1.5\n",
    "resA = []\n",
    "resA.append(simulation2(spt, f=prediction, sigma=S, legende=\"Prediction\"))\n",
    "#resA.append(simulation2(spt, f=prediction, sigma=5, legende=\"Prediction sigma 5\"))\n",
    "resA.append(simulation2(spt, f=round_robin, sigma=S, legende=\"Round-Robin\"))\n",
    "resA.append(simulation2(spt, f=pred_round_robin, sigma=S, legende = \"Prediction-Round-Robin\"))\n",
    "resA.append(simulation2(spt, f=pred_round_robin2, sigma=S, legende = \"Notre Prediction-Round-Robin\") )\n"
   ]
  },
  {
   "cell_type": "code",
   "execution_count": 44,
   "metadata": {},
   "outputs": [
    {
     "data": {
      "image/png": "[encoded data removed]",
      "text/plain": [
       "<Figure size 432x288 with 1 Axes>"
      ]
     },
     "metadata": {
      "needs_background": "light"
     },
     "output_type": "display_data"
    }
   ],
   "source": [
    "## Superposons les graphes\n",
    "### Partie A\n",
    "show_multiple_sims(resA)"
   ]
  },
  {
   "cell_type": "markdown",
   "metadata": {},
   "source": [
    "Ce graphique présente les maximas des rapports de compétitivité pour chaque fonction implémentée en fonction des erreurs de prédiction. On observe que pour toutes les fonctions sauf round robin, plus l'erreur de prédiction est grande, plus le rapport de compétitivité l'est aussi, avec une légère baisse à partir des erreurs de prédictions égales à 60. Note : cette baisse n'est probablement pas significative et doit dépendre de la manière dont les données sont générées.\n",
    "\n",
    "On constate que Prediction obtient les meilleurs résultats, bien qu'il faille prendre du recul puisque les prédictions sont générées aléatoirement avec des paramètres fixés arbitrairement et qu'ici les prédictions sont très bonnes (très proches de la réalité). Ensuite, la meilleure fonction est notre Prediction-round-robin, suivie de round-robin et enfin prediction-round-robin."
   ]
  },
  {
   "cell_type": "markdown",
   "metadata": {},
   "source": [
    "À présent nous étudions l'impact d'une qualité médiocre de prédiction sur les rapports de compétitivité des fonctions."
   ]
  },
  {
   "cell_type": "code",
   "execution_count": 45,
   "metadata": {},
   "outputs": [],
   "source": [
    "## Pour la partie A\n",
    "S = 10\n",
    "resA2 = []\n",
    "resA2.append(simulation2(spt, f=prediction, sigma=S, legende=\"Prediction\"))\n",
    "#resA2.append(simulation2(spt, f=prediction, sigma=5, legende=\"Prediction sigma 5\"))\n",
    "resA2.append(simulation2(spt, f=round_robin, sigma=S, legende=\"Round-Robin\"))\n",
    "resA2.append(simulation2(spt, f=pred_round_robin, sigma=S, legende = \"Prediction-Round-Robin\"))\n",
    "resA2.append(simulation2(spt, f=pred_round_robin2, sigma=S, legende = \"Notre Prediction-Round-Robin\") )\n"
   ]
  },
  {
   "cell_type": "code",
   "execution_count": 46,
   "metadata": {
    "scrolled": true
   },
   "outputs": [
    {
     "data": {
      "image/png": "[encoded data removed]",
      "text/plain": [
       "<Figure size 432x288 with 1 Axes>"
      ]
     },
     "metadata": {
      "needs_background": "light"
     },
     "output_type": "display_data"
    }
   ],
   "source": [
    "## Superposons les graphes\n",
    "### Partie A\n",
    "show_multiple_sims(resA2)"
   ]
  },
  {
   "cell_type": "markdown",
   "metadata": {},
   "source": [
    "En augmentant sigma, et donc en diminuant la qualité des prédictions, on observe une dégradation du rapport de compétitivité de toutes les fonctions utilisant la prédiction (ce dernier augmente par rapport au dernier graphique, s'éloignant ainsi de 1). La fonction Round-Robin, elle, reste non-impactée et semble être un meilleur choix quand une prédiction de qualité ne peut être pas obtenue, nous assurant un rapport de compétitivité inférieur ou égal à 2 (nous rappelons que les rapports de compétitivité choisis ici sont les pires trouvés pour les classes d'erreur de prédiction, voir la fonction simulation2 pour plus de détails)."
   ]
  },
  {
   "cell_type": "markdown",
   "metadata": {},
   "source": [
    "## Partie B"
   ]
  },
  {
   "cell_type": "markdown",
   "metadata": {},
   "source": [
    "Dans cette partie, nous considèrons que toutes les tâches n'arrivent pas au même moment et donc qu'il faut les ordonnancer à mesure qu'elles arrivent. Les dates d'arrivée des tâches sont générées aléatoirement selon une distribution equiprobable bornée entre 0 et la plus petite durée de tâche multipliée par le nombre de tâches."
   ]
  },
  {
   "cell_type": "code",
   "execution_count": 47,
   "metadata": {},
   "outputs": [],
   "source": [
    "## Pour la partie B\n",
    "S = 1.5\n",
    "\n",
    "resB = []\n",
    "resB.append(simulation2(sptB, f=predictionB, partie=\"B\", sigma=S, legende=\"Prediction Partie B\"))\n",
    "#resB.append(simulation2(sptB, f=predictionB, partie=\"B\", sigma=5, legende=\"Prediction Partie B sigma 5\"))\n",
    "resB.append(simulation2(sptB, f=round_robinB, partie=\"B\", sigma=S, legende=\"Round-Robin Partie B\"))\n",
    "resB.append(simulation2(sptB, f=pred_round_robinB, partie=\"B\", sigma=S, legende=\"Prediction-Round-Robin Partie B\"))\n",
    "resB.append(simulation2(sptB, f=pred_round_robinB2, partie=\"B\", sigma=S, legende=\"Notre Prediction-Round-Robin Partie B\") )"
   ]
  },
  {
   "cell_type": "code",
   "execution_count": 48,
   "metadata": {
    "scrolled": false
   },
   "outputs": [
    {
     "data": {
      "image/png": "[encoded data removed]",
      "text/plain": [
       "<Figure size 432x288 with 1 Axes>"
      ]
     },
     "metadata": {
      "needs_background": "light"
     },
     "output_type": "display_data"
    }
   ],
   "source": [
    "## Superposons les graphes\n",
    "### Partie B\n",
    "show_multiple_sims(resB)"
   ]
  },
  {
   "cell_type": "markdown",
   "metadata": {},
   "source": [
    "Ce graphique présente les maximums de rapport de compétitivité pour chaque fonction implémentée en fonction des erreurs de prédiction. Dans cette partie les tâches ont également une date d'arrivée.\n",
    "\n",
    "L'analyse est la même que pour la partie A, à la différence qu'ici, la fonction Round-Robin n'est plus aussi constante qu'avant. Elle montre toutefois une efficacité similaire à celle qu'elle avait dans la partie A."
   ]
  },
  {
   "cell_type": "code",
   "execution_count": 49,
   "metadata": {},
   "outputs": [],
   "source": [
    "## Pour la partie B\n",
    "S = 10\n",
    "\n",
    "resB2 = []\n",
    "resB2.append(simulation2(sptB, f=predictionB, partie=\"B\", sigma=S, legende=\"Prediction Partie B\"))\n",
    "#resB2.append(simulation2(sptB, f=predictionB, partie=\"B\", sigma=5, legende=\"Prediction Partie B sigma 5\"))\n",
    "resB2.append(simulation2(sptB, f=round_robinB, partie=\"B\", sigma=S, legende=\"Round-Robin Partie B\"))\n",
    "resB2.append(simulation2(sptB, f=pred_round_robinB, partie=\"B\", sigma=S, legende=\"Prediction-Round-Robin Partie B\"))\n",
    "resB2.append(simulation2(sptB, f=pred_round_robinB2, partie=\"B\", sigma=S, legende=\"Notre Prediction-Round-Robin Partie B\") )"
   ]
  },
  {
   "cell_type": "code",
   "execution_count": 50,
   "metadata": {
    "scrolled": false
   },
   "outputs": [
    {
     "data": {
      "image/png": "[encoded data removed]",
      "text/plain": [
       "<Figure size 432x288 with 1 Axes>"
      ]
     },
     "metadata": {
      "needs_background": "light"
     },
     "output_type": "display_data"
    }
   ],
   "source": [
    "## Superposons les graphes\n",
    "### Partie B avec un grand sigma\n",
    "show_multiple_sims(resB2)"
   ]
  },
  {
   "cell_type": "markdown",
   "metadata": {},
   "source": [
    "Ici avec une prédiction dégradée, on observe le même comportement que dans la partie A (sans les dates d'arrivée)."
   ]
  },
  {
   "cell_type": "markdown",
   "metadata": {},
   "source": [
    "## Variabilité de la qualité de prédiction"
   ]
  },
  {
   "cell_type": "markdown",
   "metadata": {},
   "source": [
    "Dans cette partie, nous allons faire varier le paramètre sigma qui entre en jeu pour la génération des dates prédites, suivant une distribution normale."
   ]
  },
  {
   "cell_type": "code",
   "execution_count": 51,
   "metadata": {
    "scrolled": true
   },
   "outputs": [
    {
     "data": {
      "image/png": "[encoded data removed]",
      "text/plain": [
       "<Figure size 432x288 with 1 Axes>"
      ]
     },
     "metadata": {
      "needs_background": "light"
     },
     "output_type": "display_data"
    }
   ],
   "source": [
    "sigmas = [1+i*0.25 for i in range(int(2/0.25)+1)]\n",
    "nbTaches = 10\n",
    "Y = []\n",
    "for s in sigmas:\n",
    "    subY = []\n",
    "    for _ in range(1000):\n",
    "\n",
    "        vrai = [np.random.pareto(alpha)+1 for i in range(nbTaches)]\n",
    "        bruit = np.random.randn(nbTaches)*s\n",
    "        pred = [round(vrai[i] + bruit[i], 2) for i in range(nbTaches)]\n",
    "\n",
    "        subY.append(abs(spt(vrai)[1] - prediction(pred, vrai)[1]))\n",
    "\n",
    "    Y.append(np.mean(subY))\n",
    "\n",
    "plt.plot(sigmas, Y, label=\"Différence entre prediction et SPT en fonction de sigma\")\n",
    "#plt.plot(X, Y, label=legende)\n",
    "\n",
    "plt.xlabel('Sigma')\n",
    "plt.ylabel('Différence à SPT')\n",
    "#plt.legend(loc='best')\n",
    "plt.legend(bbox_to_anchor=(1.05, 1), loc='upper left', borderaxespad=0.)\n",
    "plt.show()"
   ]
  },
  {
   "cell_type": "markdown",
   "metadata": {},
   "source": [
    "Comme attendu, plus le sigma augmente, plus la différence entre le résultat de prediction et la solution optimale est grande, et ce de manière linéaire."
   ]
  },
  {
   "cell_type": "markdown",
   "metadata": {},
   "source": [
    "## Conclusion"
   ]
  },
  {
   "cell_type": "markdown",
   "metadata": {},
   "source": [
    "Nos résultats montrent que Round-Robin présente expérimentalement un rapport de compétitivité borné à 2-OPT. L'utilité des fonctions de prédiction dépend directement de la qualité des prédictions, et n'ont pas d'intérêt si cette dernière est médiocre. L'association de Prediction et de Round-Robin n'a pas montré d'avantage sur les autres fonctions et performe même moins bien que celles-ci."
   ]
  }
 ],
 "metadata": {
  "kernelspec": {
   "display_name": "Python 3",
   "language": "python",
   "name": "python3"
  },
  "language_info": {
   "codemirror_mode": {
    "name": "ipython",
    "version": 3
   },
   "file_extension": ".py",
   "mimetype": "text/x-python",
   "name": "python",
   "nbconvert_exporter": "python",
   "pygments_lexer": "ipython3",
   "version": "3.7.6"
  },
  "metadata": {
   "interpreter": {
    "hash": "a6d75082b41d80496f0f2375a18b46236427b2ab7c419f18939c65312a3a9ddd"
   }
  }
 },
 "nbformat": 4,
 "nbformat_minor": 4
}
